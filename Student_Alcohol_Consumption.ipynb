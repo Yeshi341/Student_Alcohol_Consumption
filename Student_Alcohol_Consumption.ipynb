{
 "cells": [
  {
   "cell_type": "markdown",
   "metadata": {},
   "source": [
    "# Factors Associated with Teenage Alcohol Abuse\n",
    "#### --- Authors: Eon Slemp and Lhamu Tsering"
   ]
  },
  {
   "cell_type": "markdown",
   "metadata": {},
   "source": [
    "# Introduction- Overview\n",
    "\n",
    "The New York City Department of Education wants a model to help identify students at risk of alcohol abuse. Identifying the factors that influence youth alcohol abuse, can help\n",
    "* Prioritize resources \n",
    "* Develop new interventions\n",
    "* Reduce likelihood of dropout\n",
    "* Improve life outcomes for NYC students\n"
   ]
  },
  {
   "cell_type": "markdown",
   "metadata": {},
   "source": [
    "# Business Problem\n",
    "\n",
    "Alcohol abuse among teenage students is a national problem, according to the [CDC](https://www.cdc.gov/alcohol/fact-sheets/underage-drinking.htm). The teenage brain is not biologically fully developed. One of the dangerous effects of youth alcohol abuse is the risk of inhibiting proper brain development. According to Dr. Marisa M. Silveri, director of [McLean Hospital’s Neurodevelopmental Laboratory on Addictions and Mental Health](https://www.mcleanhospital.org/news/essence-adolescence-examining-addiction-teenage-brain), \"age of first alcohol use is a strong predictor of an alcohol abuse problem later in life. If you’re 13 when you start drinking, you have a 47% chance of having a problem as an adult. If you wait until 21, you still have a 9% chance that you’ll have a problem later on, but there’s a clear pattern—the longer you can delay onset of use, the more you can protect your brain.\" Other negative effects of adolescent alcohol abuse is memory difficulties. \n",
    "\n",
    "We say that the children and youth are the pillars of the future. So, to be able to protect and prevent young students from becoming heavy alcohol drinkers becomes very important. One of the way to do this, is to first identify what factors or condition in a student or teenager's life makes them take decisions that lead them to become heavy drinkers."
   ]
  },
  {
   "cell_type": "markdown",
   "metadata": {},
   "source": [
    "# Data Understanding\n",
    "\n",
    "The data for this data science project in researching factors influencing teenage alcoholism was sourced from the [UCI Machine Learning Repository](https://archive.ics.uci.edu/ml/datasets/student%2Bperformance#). It was donated to the site by Prof. Paulo Cortez of University Minho. His original work on the dataset, \"USING DATA MINING TO PREDICT SECONDARY SCHOOL STUDENT PERFORMANCE, can be found [here](http://www3.dsi.uminho.pt/pcortez/student.pdf)\n",
    "\n",
    "The data set consists of information on various attributes for each student, taking Portuguese language classes who come from ether of the two higher secondary schools, The Gabriel Pereira School and  the Mousinho da Silveira School. There is information on 649 students on 33 attributes. A list of all the features with description can be found on [Readme](https://github.com/Yeshi341/Student_Alcohol_Consumption/blob/master/Readme.md) section of the Github page to this project. The features have also been described sequentially as [EDA]('EDA.ipynb') was performed on each variable in the EDA notebook."
   ]
  },
  {
   "cell_type": "code",
   "execution_count": 1,
   "metadata": {},
   "outputs": [],
   "source": [
    "# Importing necessary libraries\n",
    "import pandas as pd\n",
    "import numpy as np\n",
    "import matplotlib.pyplot as plt\n",
    "%matplotlib inline\n",
    "import seaborn as sns\n",
    "\n",
    "from sklearn.model_selection import train_test_split\n",
    "from sklearn.feature_selection import SelectKBest, f_classif\n",
    "from sklearn.preprocessing import MinMaxScaler\n",
    "from sklearn.neighbors import KNeighborsClassifier\n",
    "from sklearn import metrics\n",
    "from sklearn.linear_model import LogisticRegression\n",
    "from sklearn.model_selection import GridSearchCV\n",
    "from sklearn.tree import DecisionTreeClassifier "
   ]
  },
  {
   "cell_type": "code",
   "execution_count": 2,
   "metadata": {},
   "outputs": [],
   "source": [
    "# Loading dataset\n",
    "df = pd.read_csv('student-por.csv')"
   ]
  },
  {
   "cell_type": "markdown",
   "metadata": {},
   "source": [
    "## Data Preparation- data cleaning and transformations"
   ]
  },
  {
   "cell_type": "code",
   "execution_count": 3,
   "metadata": {},
   "outputs": [
    {
     "name": "stdout",
     "output_type": "stream",
     "text": [
      "Rows and Columns : (649, 33) \n",
      "\n",
      "INFO:\n",
      "<class 'pandas.core.frame.DataFrame'>\n",
      "RangeIndex: 649 entries, 0 to 648\n",
      "Data columns (total 33 columns):\n",
      "school        649 non-null object\n",
      "sex           649 non-null object\n",
      "age           649 non-null int64\n",
      "address       649 non-null object\n",
      "famsize       649 non-null object\n",
      "Pstatus       649 non-null object\n",
      "Medu          649 non-null int64\n",
      "Fedu          649 non-null int64\n",
      "Mjob          649 non-null object\n",
      "Fjob          649 non-null object\n",
      "reason        649 non-null object\n",
      "guardian      649 non-null object\n",
      "traveltime    649 non-null int64\n",
      "studytime     649 non-null int64\n",
      "failures      649 non-null int64\n",
      "schoolsup     649 non-null object\n",
      "famsup        649 non-null object\n",
      "paid          649 non-null object\n",
      "activities    649 non-null object\n",
      "nursery       649 non-null object\n",
      "higher        649 non-null object\n",
      "internet      649 non-null object\n",
      "romantic      649 non-null object\n",
      "famrel        649 non-null int64\n",
      "freetime      649 non-null int64\n",
      "goout         649 non-null int64\n",
      "Dalc          649 non-null int64\n",
      "Walc          649 non-null int64\n",
      "health        649 non-null int64\n",
      "absences      649 non-null int64\n",
      "G1            649 non-null int64\n",
      "G2            649 non-null int64\n",
      "G3            649 non-null int64\n",
      "dtypes: int64(16), object(17)\n",
      "memory usage: 167.4+ KB\n",
      "None \n",
      "\n",
      "Unique Values : \n",
      " school         2\n",
      "sex            2\n",
      "age            8\n",
      "address        2\n",
      "famsize        2\n",
      "Pstatus        2\n",
      "Medu           5\n",
      "Fedu           5\n",
      "Mjob           5\n",
      "Fjob           5\n",
      "reason         4\n",
      "guardian       3\n",
      "traveltime     4\n",
      "studytime      4\n",
      "failures       4\n",
      "schoolsup      2\n",
      "famsup         2\n",
      "paid           2\n",
      "activities     2\n",
      "nursery        2\n",
      "higher         2\n",
      "internet       2\n",
      "romantic       2\n",
      "famrel         5\n",
      "freetime       5\n",
      "goout          5\n",
      "Dalc           5\n",
      "Walc           5\n",
      "health         5\n",
      "absences      24\n",
      "G1            17\n",
      "G2            16\n",
      "G3            17\n",
      "dtype: int64 \n",
      "\n"
     ]
    }
   ],
   "source": [
    "#Rows tell you the number of obs and columns tell you the number of features\n",
    "print('Rows and Columns :', df.shape,'\\n' ) \n",
    "\n",
    "#Running info on the dataset to check on the any visible missing values and datatypes\n",
    "print('INFO:')\n",
    "print(df.info(), '\\n')\n",
    "\n",
    "# Checking for the number of unique values in each column in dataset\n",
    "print('Unique Values :','\\n', df.nunique(), '\\n')"
   ]
  },
  {
   "cell_type": "code",
   "execution_count": 4,
   "metadata": {},
   "outputs": [],
   "source": [
    "# Converting all binary non-numeric variables to numeric variables to allow for easy data processing\n",
    "\n",
    "df.loc[df['school']=='GP', 'school'] = 1\n",
    "df.loc[df['school']=='MS', 'school'] = 0\n",
    "\n",
    "df.loc[df['sex']=='F', 'sex'] = 1\n",
    "df.loc[df['sex']=='M', 'sex'] = 0\n",
    "\n",
    "df.loc[df['address']=='R', 'address'] = 1\n",
    "df.loc[df['address']=='U', 'address'] = 0\n",
    "\n",
    "df.loc[df['famsize']=='GT3', 'famsize'] = 1\n",
    "df.loc[df['famsize']=='LE3', 'famsize'] = 0\n",
    "\n",
    "df.loc[df['Pstatus']=='T', 'Pstatus'] = 1\n",
    "df.loc[df['Pstatus']=='A', 'Pstatus'] = 0\n",
    "\n",
    "df.loc[df['schoolsup']=='yes', 'schoolsup'] = 1\n",
    "df.loc[df['schoolsup']=='no', 'schoolsup'] = 0\n",
    "\n",
    "df.loc[df['famsup']=='yes', 'famsup'] = 1\n",
    "df.loc[df['famsup']=='no', 'famsup'] = 0\n",
    "\n",
    "df.loc[df['paid']=='yes', 'paid'] = 1\n",
    "df.loc[df['paid']=='no', 'paid'] = 0\n",
    "\n",
    "df.loc[df['activities']=='yes', 'activities'] = 1\n",
    "df.loc[df['activities']=='no', 'activities'] = 0\n",
    "\n",
    "df.loc[df['nursery']=='yes', 'nursery'] = 1\n",
    "df.loc[df['nursery']=='no', 'nursery'] = 0\n",
    "\n",
    "df.loc[df['higher']=='yes', 'higher'] = 1\n",
    "df.loc[df['higher']=='no', 'higher'] = 0\n",
    "\n",
    "df.loc[df['internet']=='yes', 'internet'] = 1\n",
    "df.loc[df['internet']=='no', 'internet'] = 0\n",
    "\n",
    "df.loc[df['romantic']=='yes', 'romantic'] = 1\n",
    "df.loc[df['romantic']=='no', 'romantic'] = 0"
   ]
  },
  {
   "cell_type": "code",
   "execution_count": 5,
   "metadata": {},
   "outputs": [],
   "source": [
    "# Converting all nominal non-numeric variables to numeric variables to allow for easy data processing\n",
    "\n",
    "conditions=[df['Mjob'] == 'at_home',\n",
    "          df['Mjob'] == 'services',\n",
    "          df['Mjob'] == 'teacher',\n",
    "          df['Mjob'] == 'health',\n",
    "           df['Mjob']== 'other']\n",
    "choices = [1,2,3,4,5]\n",
    "df['Mjob'] = np.select(conditions, choices)\n",
    "\n",
    "conditions=[df['Fjob'] == 'at_home',\n",
    "          df['Fjob'] == 'services',\n",
    "          df['Fjob'] == 'teacher',\n",
    "          df['Fjob'] == 'health',\n",
    "           df['Fjob']== 'other']\n",
    "choices = [1,2,3,4,5]\n",
    "df['Fjob'] = np.select(conditions, choices)\n",
    "\n",
    "conditions=[df['reason'] == 'home',\n",
    "          df['reason'] == 'reputation',\n",
    "          df['reason'] == 'course',\n",
    "           df['reason']== 'other']\n",
    "choices = [1,2,3,4]\n",
    "df['reason'] = np.select(conditions, choices)\n",
    "\n",
    "conditions=[df['guardian'] == 'father',\n",
    "          df['guardian'] == 'mother',\n",
    "          df['guardian'] == 'other']\n",
    "choices = [1,2,3]\n",
    "df['guardian'] = np.select(conditions, choices)"
   ]
  },
  {
   "cell_type": "code",
   "execution_count": 6,
   "metadata": {},
   "outputs": [
    {
     "data": {
      "text/plain": [
       "school        int64\n",
       "sex           int64\n",
       "age           int64\n",
       "address       int64\n",
       "famsize       int64\n",
       "Pstatus       int64\n",
       "Medu          int64\n",
       "Fedu          int64\n",
       "Mjob          int64\n",
       "Fjob          int64\n",
       "reason        int64\n",
       "guardian      int64\n",
       "traveltime    int64\n",
       "studytime     int64\n",
       "failures      int64\n",
       "schoolsup     int64\n",
       "famsup        int64\n",
       "paid          int64\n",
       "activities    int64\n",
       "nursery       int64\n",
       "higher        int64\n",
       "internet      int64\n",
       "romantic      int64\n",
       "famrel        int64\n",
       "freetime      int64\n",
       "goout         int64\n",
       "Dalc          int64\n",
       "Walc          int64\n",
       "health        int64\n",
       "absences      int64\n",
       "G1            int64\n",
       "G2            int64\n",
       "G3            int64\n",
       "dtype: object"
      ]
     },
     "execution_count": 6,
     "metadata": {},
     "output_type": "execute_result"
    }
   ],
   "source": [
    "df.dtypes"
   ]
  },
  {
   "cell_type": "code",
   "execution_count": 7,
   "metadata": {},
   "outputs": [
    {
     "data": {
      "text/plain": [
       "2     241\n",
       "3     116\n",
       "4      99\n",
       "5      73\n",
       "6      50\n",
       "7      32\n",
       "8      17\n",
       "10     15\n",
       "9       6\n",
       "Name: week_alc, dtype: int64"
      ]
     },
     "execution_count": 7,
     "metadata": {},
     "output_type": "execute_result"
    }
   ],
   "source": [
    "df['week_alc']= df['Dalc']+df['Walc']\n",
    "\n",
    "df['week_alc'].value_counts()"
   ]
  },
  {
   "cell_type": "code",
   "execution_count": 8,
   "metadata": {},
   "outputs": [
    {
     "name": "stdout",
     "output_type": "stream",
     "text": [
      "0    529\n",
      "1    120\n",
      "Name: alc, dtype: int64\n",
      "0    0.8151\n",
      "1    0.1849\n",
      "Name: alc, dtype: float64\n"
     ]
    },
    {
     "data": {
      "text/plain": [
       "<seaborn.axisgrid.FacetGrid at 0x7fa53156aa20>"
      ]
     },
     "execution_count": 8,
     "metadata": {},
     "output_type": "execute_result"
    },
    {
     "data": {
      "image/png": "[encoded data removed]",
      "text/plain": [
       "<Figure size 360x360 with 1 Axes>"
      ]
     },
     "metadata": {
      "needs_background": "light"
     },
     "output_type": "display_data"
    }
   ],
   "source": [
    "df['alc'] = [0 if x <= 5 else 1 for x in df['week_alc']]\n",
    "        \n",
    "print(df['alc'].value_counts())\n",
    "print(df['alc'].value_counts(normalize = True))\n",
    "\n",
    "sns.catplot(x=\"alc\", kind=\"count\", palette=\"ch:.25\", data=df)"
   ]
  },
  {
   "cell_type": "code",
   "execution_count": 9,
   "metadata": {},
   "outputs": [
    {
     "data": {
      "text/plain": [
       "school        False\n",
       "sex           False\n",
       "age           False\n",
       "address       False\n",
       "famsize       False\n",
       "Pstatus       False\n",
       "Medu          False\n",
       "Fedu          False\n",
       "Mjob          False\n",
       "Fjob          False\n",
       "reason        False\n",
       "guardian      False\n",
       "traveltime    False\n",
       "studytime     False\n",
       "failures      False\n",
       "schoolsup     False\n",
       "famsup        False\n",
       "paid          False\n",
       "activities    False\n",
       "nursery       False\n",
       "higher        False\n",
       "internet      False\n",
       "romantic      False\n",
       "famrel        False\n",
       "freetime      False\n",
       "goout         False\n",
       "Dalc          False\n",
       "Walc          False\n",
       "health        False\n",
       "absences      False\n",
       "G1            False\n",
       "G2            False\n",
       "G3            False\n",
       "week_alc      False\n",
       "alc           False\n",
       "dtype: bool"
      ]
     },
     "execution_count": 9,
     "metadata": {},
     "output_type": "execute_result"
    }
   ],
   "source": [
    "# checking for Nan values\n",
    "df.isna().any()"
   ]
  },
  {
   "cell_type": "code",
   "execution_count": 10,
   "metadata": {},
   "outputs": [
    {
     "data": {
      "text/plain": [
       "279    22\n",
       "Name: age, dtype: int64"
      ]
     },
     "execution_count": 10,
     "metadata": {},
     "output_type": "execute_result"
    }
   ],
   "source": [
    "df[df['age']== 22]['age']"
   ]
  },
  {
   "cell_type": "code",
   "execution_count": 11,
   "metadata": {
    "scrolled": true
   },
   "outputs": [
    {
     "data": {
      "text/plain": [
       "Series([], Name: age, dtype: int64)"
      ]
     },
     "execution_count": 11,
     "metadata": {},
     "output_type": "execute_result"
    }
   ],
   "source": [
    "df.drop(labels = 279, inplace=True) #dropping age outlier\n",
    "df[df['age']== 22]['age']# checking to see if the drop was successful"
   ]
  },
  {
   "cell_type": "code",
   "execution_count": 12,
   "metadata": {},
   "outputs": [
    {
     "data": {
      "text/plain": [
       "31"
      ]
     },
     "execution_count": 12,
     "metadata": {},
     "output_type": "execute_result"
    }
   ],
   "source": [
    "X_df = df.drop(columns = ['Dalc', 'Walc', 'week_alc', 'alc'], axis = 1) # grabs everything else but 'default column'\n",
    "y = df['alc']\n",
    "orig_feats = list(X_df.columns)\n",
    "len(orig_feats)"
   ]
  },
  {
   "cell_type": "code",
   "execution_count": null,
   "metadata": {},
   "outputs": [],
   "source": []
  },
  {
   "cell_type": "markdown",
   "metadata": {},
   "source": [
    "## Exploratory Data Analysis === Check here for [EDA]('EDA.ipynb')"
   ]
  },
  {
   "cell_type": "markdown",
   "metadata": {},
   "source": [
    "# Feature Engineering"
   ]
  },
  {
   "cell_type": "markdown",
   "metadata": {},
   "source": [
    "Feature quantifying family stability "
   ]
  },
  {
   "cell_type": "code",
   "execution_count": 13,
   "metadata": {},
   "outputs": [],
   "source": [
    "df['stability'] = df['famrel'] * df['famsize']"
   ]
  },
  {
   "cell_type": "code",
   "execution_count": 14,
   "metadata": {},
   "outputs": [
    {
     "name": "stdout",
     "output_type": "stream",
     "text": [
      "Descriptive Statistics : \n",
      " count    648.000000\n",
      "mean       2.762346\n",
      "std        1.960743\n",
      "min        0.000000\n",
      "25%        0.000000\n",
      "50%        4.000000\n",
      "75%        4.000000\n",
      "max        5.000000\n",
      "Name: stability, dtype: float64\n",
      "Correlation with target var 'alc consumption' : \n",
      " -0.07673173130578956\n",
      "percentage of data distrib : \n",
      " 4    0.342593\n",
      "0    0.296296\n",
      "5    0.191358\n",
      "3    0.118827\n",
      "2    0.027778\n",
      "1    0.023148\n",
      "Name: stability, dtype: float64\n"
     ]
    },
    {
     "data": {
      "text/plain": [
       "<matplotlib.axes._subplots.AxesSubplot at 0x7fa531a29d30>"
      ]
     },
     "execution_count": 14,
     "metadata": {},
     "output_type": "execute_result"
    },
    {
     "data": {
      "image/png": "[encoded data removed]",
      "text/plain": [
       "<Figure size 720x432 with 2 Axes>"
      ]
     },
     "metadata": {
      "needs_background": "light"
     },
     "output_type": "display_data"
    }
   ],
   "source": [
    "print(\"Descriptive Statistics :\", '\\n', df['stability'].describe())\n",
    "print(\"Correlation with target var 'alc consumption' :\", '\\n', df['stability'].corr(df['alc']))\n",
    "print(\"percentage of data distrib :\", '\\n', df.stability.value_counts(normalize=True))\n",
    "\n",
    "fig, ax = plt.subplots(1, 2, figsize= (10,6))\n",
    "sns.despine(right=True)\n",
    "sns.countplot(x=\"stability\", data=df,  ax = ax[0])\n",
    "sns.barplot(x=\"stability\", y = 'alc', data=df,  ax = ax[1])"
   ]
  },
  {
   "cell_type": "markdown",
   "metadata": {},
   "source": [
    "feature quantifying academic support network"
   ]
  },
  {
   "cell_type": "code",
   "execution_count": 15,
   "metadata": {},
   "outputs": [],
   "source": [
    "df['academic_support'] = df.famsup + df.schoolsup  + df.higher "
   ]
  },
  {
   "cell_type": "code",
   "execution_count": 16,
   "metadata": {},
   "outputs": [
    {
     "name": "stdout",
     "output_type": "stream",
     "text": [
      "Descriptive Statistics : \n",
      " count    648.000000\n",
      "mean       1.614198\n",
      "std        0.698363\n",
      "min        0.000000\n",
      "25%        1.000000\n",
      "50%        2.000000\n",
      "75%        2.000000\n",
      "max        3.000000\n",
      "Name: academic_support, dtype: float64\n",
      "Correlation with target var 'alc consumption' : \n",
      " -0.12045336285372545\n",
      "percentage of data distrib : \n",
      " 2    0.521605\n",
      "1    0.353395\n",
      "3    0.072531\n",
      "0    0.052469\n",
      "Name: academic_support, dtype: float64\n"
     ]
    },
    {
     "data": {
      "text/plain": [
       "<matplotlib.axes._subplots.AxesSubplot at 0x7fa532077ef0>"
      ]
     },
     "execution_count": 16,
     "metadata": {},
     "output_type": "execute_result"
    },
    {
     "data": {
      "image/png": "[encoded data removed]",
      "text/plain": [
       "<Figure size 720x432 with 2 Axes>"
      ]
     },
     "metadata": {
      "needs_background": "light"
     },
     "output_type": "display_data"
    }
   ],
   "source": [
    "print(\"Descriptive Statistics :\", '\\n', df['academic_support'].describe())\n",
    "print(\"Correlation with target var 'alc consumption' :\", '\\n', df['academic_support'].corr(df['alc']))\n",
    "print(\"percentage of data distrib :\", '\\n', df.academic_support.value_counts(normalize=True))\n",
    "\n",
    "fig, ax = plt.subplots(1, 2, figsize= (10,6))\n",
    "sns.despine(right=True)\n",
    "sns.countplot(x=\"academic_support\", data=df,  ax = ax[0])\n",
    "sns.barplot(x=\"academic_support\",  y ='alc', data=df,  ax = ax[1])"
   ]
  },
  {
   "cell_type": "code",
   "execution_count": 17,
   "metadata": {},
   "outputs": [],
   "source": [
    "df['idle'] = df.goout*df.freetime"
   ]
  },
  {
   "cell_type": "code",
   "execution_count": 18,
   "metadata": {},
   "outputs": [
    {
     "name": "stdout",
     "output_type": "stream",
     "text": [
      "Descriptive Statistics : \n",
      " count    648.000000\n",
      "mean      10.541667\n",
      "std        6.031201\n",
      "min        1.000000\n",
      "25%        6.000000\n",
      "50%        9.000000\n",
      "75%       15.000000\n",
      "max       25.000000\n",
      "Name: idle, dtype: float64\n",
      "Correlation with target variable 'alc consumption' : \n",
      " 0.2549773238901153\n",
      "percentage of data distrib : \n",
      " 9     0.158951\n",
      "12    0.149691\n",
      "6     0.140432\n",
      "16    0.097222\n",
      "20    0.074074\n",
      "4     0.069444\n",
      "8     0.057099\n",
      "25    0.054012\n",
      "2     0.050926\n",
      "15    0.047840\n",
      "3     0.047840\n",
      "10    0.032407\n",
      "5     0.010802\n",
      "1     0.009259\n",
      "Name: idle, dtype: float64\n"
     ]
    },
    {
     "data": {
      "text/plain": [
       "<matplotlib.axes._subplots.AxesSubplot at 0x7fa532147668>"
      ]
     },
     "execution_count": 18,
     "metadata": {},
     "output_type": "execute_result"
    },
    {
     "data": {
      "image/png": "[encoded data removed]",
      "text/plain": [
       "<Figure size 720x432 with 2 Axes>"
      ]
     },
     "metadata": {
      "needs_background": "light"
     },
     "output_type": "display_data"
    }
   ],
   "source": [
    "print(\"Descriptive Statistics :\", '\\n', df['idle'].describe())\n",
    "print(\"Correlation with target variable 'alc consumption' :\", '\\n', df['idle'].corr(df['alc']))\n",
    "print(\"percentage of data distrib :\", '\\n', df.idle.value_counts(normalize=True))\n",
    "\n",
    "fig, ax = plt.subplots(1, 2, figsize= (10,6))\n",
    "sns.despine(right=True)\n",
    "sns.countplot(x=\"idle\", data=df,  ax = ax[0])\n",
    "sns.barplot(x=\"idle\", y = 'alc', data=df,  ax = ax[1])"
   ]
  },
  {
   "cell_type": "markdown",
   "metadata": {},
   "source": [
    "Average Grade"
   ]
  },
  {
   "cell_type": "code",
   "execution_count": 19,
   "metadata": {},
   "outputs": [],
   "source": [
    "df['grade_avg'] = round((df.G1 + df.G2 + df.G3)/3, 2)"
   ]
  },
  {
   "cell_type": "code",
   "execution_count": 20,
   "metadata": {},
   "outputs": [
    {
     "name": "stdout",
     "output_type": "stream",
     "text": [
      "Descriptive Statistics : \n",
      " count    648.000000\n",
      "mean      11.632762\n",
      "std        2.828787\n",
      "min        1.330000\n",
      "25%       10.000000\n",
      "50%       11.670000\n",
      "75%       13.330000\n",
      "max       18.670000\n",
      "Name: grade_avg, dtype: float64\n",
      "Correlation with target alc consumption : \n",
      " -0.20625996193267518\n"
     ]
    },
    {
     "data": {
      "text/plain": [
       "<matplotlib.axes._subplots.AxesSubplot at 0x7fa53189c320>"
      ]
     },
     "execution_count": 20,
     "metadata": {},
     "output_type": "execute_result"
    },
    {
     "data": {
      "image/png": "[encoded data removed]",
      "text/plain": [
       "<Figure size 432x288 with 1 Axes>"
      ]
     },
     "metadata": {
      "needs_background": "light"
     },
     "output_type": "display_data"
    }
   ],
   "source": [
    "print(\"Descriptive Statistics :\", '\\n', df['grade_avg'].describe())\n",
    "print(\"Correlation with target alc consumption :\", '\\n', df['grade_avg'].corr(df['alc']))\n",
    "\n",
    "sns.despine(right=True)\n",
    "sns.distplot(a=df[\"grade_avg\"],bins=10, kde=True, hist=True)\n",
    "\n",
    "# plt.figure(figsize=(5,8))\n",
    "# df.boxplot(column='grade_avg', by = 'alc')"
   ]
  },
  {
   "cell_type": "code",
   "execution_count": 21,
   "metadata": {},
   "outputs": [],
   "source": [
    "heavy = df.loc[df['alc'] == 1]\n",
    "light = df.loc[df['alc'] == 0]\n",
    "grades_heavy = df.grade_avg\n",
    "grades_light = df.grade_avg"
   ]
  },
  {
   "cell_type": "code",
   "execution_count": 22,
   "metadata": {},
   "outputs": [
    {
     "data": {
      "image/png": "[encoded data removed]",
      "text/plain": [
       "<Figure size 432x288 with 1 Axes>"
      ]
     },
     "metadata": {
      "needs_background": "light"
     },
     "output_type": "display_data"
    }
   ],
   "source": [
    "plt.hist([grades_heavy,grades_light], bins = 30, stacked = True)\n",
    "plt.xlabel('grade point average')\n",
    "plt.ylabel('frequency')\n",
    "plt.title('heavy drinkers & light drinkers GPA distributions')\n",
    "plt.axvline(x = 10.5, color = 'k')\n",
    "plt.axvline(x = 12.33, color = 'k')\n",
    "plt.savefig('images/gpahist.png')\n",
    "plt.show();"
   ]
  },
  {
   "cell_type": "code",
   "execution_count": 23,
   "metadata": {},
   "outputs": [],
   "source": [
    "df['delinquency'] = (df['failures']) * df['absences']"
   ]
  },
  {
   "cell_type": "code",
   "execution_count": 24,
   "metadata": {},
   "outputs": [
    {
     "name": "stdout",
     "output_type": "stream",
     "text": [
      "Descriptive Statistics : \n",
      " count    648.000000\n",
      "mean       1.095679\n",
      "std        4.306292\n",
      "min        0.000000\n",
      "25%        0.000000\n",
      "50%        0.000000\n",
      "75%        0.000000\n",
      "max       42.000000\n",
      "Name: delinquency, dtype: float64\n",
      "Correlation with target variable 'alc consumption' : \n",
      " 0.11079323913434849\n",
      "percentage of data distrib : \n",
      " 0     0.891975\n",
      "4     0.020062\n",
      "2     0.012346\n",
      "12    0.012346\n",
      "8     0.012346\n",
      "6     0.012346\n",
      "14    0.007716\n",
      "18    0.004630\n",
      "16    0.004630\n",
      "30    0.004630\n",
      "3     0.003086\n",
      "42    0.003086\n",
      "5     0.003086\n",
      "9     0.003086\n",
      "26    0.001543\n",
      "27    0.001543\n",
      "1     0.001543\n",
      "Name: delinquency, dtype: float64\n"
     ]
    },
    {
     "data": {
      "text/plain": [
       "<matplotlib.axes._subplots.AxesSubplot at 0x7fa531f70080>"
      ]
     },
     "execution_count": 24,
     "metadata": {},
     "output_type": "execute_result"
    },
    {
     "data": {
      "image/png": "[encoded data removed]",
      "text/plain": [
       "<Figure size 432x288 with 1 Axes>"
      ]
     },
     "metadata": {
      "needs_background": "light"
     },
     "output_type": "display_data"
    }
   ],
   "source": [
    "print(\"Descriptive Statistics :\", '\\n', df['delinquency'].describe())\n",
    "print(\"Correlation with target variable 'alc consumption' :\", '\\n', df['delinquency'].corr(df['alc']))\n",
    "print(\"percentage of data distrib :\", '\\n', df.delinquency.value_counts(normalize=True))\n",
    "\n",
    "sns.despine(right=True)\n",
    "sns.distplot(a=df[\"delinquency\"],bins=10, kde = False ,hist=True)"
   ]
  },
  {
   "cell_type": "code",
   "execution_count": 25,
   "metadata": {},
   "outputs": [
    {
     "name": "stdout",
     "output_type": "stream",
     "text": [
      "(648, 40)\n",
      "Index(['school', 'sex', 'age', 'address', 'famsize', 'Pstatus', 'Medu', 'Fedu',\n",
      "       'Mjob', 'Fjob', 'reason', 'guardian', 'traveltime', 'studytime',\n",
      "       'failures', 'schoolsup', 'famsup', 'paid', 'activities', 'nursery',\n",
      "       'higher', 'internet', 'romantic', 'famrel', 'freetime', 'goout', 'Dalc',\n",
      "       'Walc', 'health', 'absences', 'G1', 'G2', 'G3', 'week_alc', 'alc',\n",
      "       'stability', 'academic_support', 'idle', 'grade_avg', 'delinquency'],\n",
      "      dtype='object')\n"
     ]
    }
   ],
   "source": [
    "print(df.shape)\n",
    "\n",
    "print(df.columns)"
   ]
  },
  {
   "cell_type": "code",
   "execution_count": 26,
   "metadata": {},
   "outputs": [],
   "source": [
    "dummy1 = pd.get_dummies(df['Medu'],drop_first= True, prefix='Medu')\n",
    "dummy2 = pd.get_dummies(df['Fedu'],drop_first= True, prefix='Fedu')\n",
    "dummy3 = pd.get_dummies(df['Mjob'],drop_first= True, prefix='Mjob')\n",
    "dummy4 = pd.get_dummies(df['Fjob'],drop_first= True, prefix='Fjob')\n",
    "dummy5 = pd.get_dummies(df['reason'],drop_first= True, prefix='reason')\n",
    "dummy6 = pd.get_dummies(df['guardian'],drop_first= True, prefix='guardian')\n",
    "dummy7 = pd.get_dummies(df['traveltime'],drop_first= True, prefix='traveltime')\n",
    "dummy8 = pd.get_dummies(df['studytime'],drop_first= True, prefix='studytime')\n",
    "dummy9 = pd.get_dummies(df['failures'],drop_first= True, prefix = 'failures')\n",
    "dummy10 = pd.get_dummies(df['famrel'],drop_first= True, prefix='famrel')\n",
    "dummy11 = pd.get_dummies(df['freetime'],drop_first= True, prefix='freetime')\n",
    "dummy12 = pd.get_dummies(df['goout'],drop_first= True, prefix=\"goout\")\n",
    "dummy13 = pd.get_dummies(df['health'],drop_first= True, prefix='health')"
   ]
  },
  {
   "cell_type": "code",
   "execution_count": 27,
   "metadata": {},
   "outputs": [],
   "source": [
    "new_feats = ['grade_avg', 'academic_support', 'stability', 'idle', 'delinquency']\n",
    "dummy_feats = ['Medu', 'Fedu','Mjob', 'Fjob', 'reason', 'guardian', 'traveltime', 'studytime',\n",
    "       'failures','famrel', 'freetime', 'goout','health']\n",
    "\n",
    "df.drop(columns = ['week_alc', 'Dalc', 'Walc', 'alc'], axis = 1, inplace = True)"
   ]
  },
  {
   "cell_type": "code",
   "execution_count": 28,
   "metadata": {},
   "outputs": [],
   "source": [
    "df_list = [df, dummy1, dummy2, dummy3, dummy4, dummy5, dummy6, dummy7, \n",
    "           dummy8, dummy9, dummy10, dummy11, dummy12, dummy13]\n"
   ]
  },
  {
   "cell_type": "code",
   "execution_count": 29,
   "metadata": {},
   "outputs": [
    {
     "name": "stdout",
     "output_type": "stream",
     "text": [
      "(648, 36)\n",
      "(648, 4)\n",
      "(648, 4)\n",
      "(648, 4)\n",
      "(648, 4)\n",
      "(648, 3)\n",
      "(648, 2)\n",
      "(648, 3)\n",
      "(648, 3)\n",
      "(648, 3)\n",
      "(648, 4)\n",
      "(648, 4)\n",
      "(648, 4)\n",
      "(648, 4)\n"
     ]
    }
   ],
   "source": [
    "for df in df_list:\n",
    "    print(df.shape)"
   ]
  },
  {
   "cell_type": "code",
   "execution_count": 30,
   "metadata": {},
   "outputs": [],
   "source": [
    "X = pd.concat(df_list, axis = 1)"
   ]
  },
  {
   "cell_type": "code",
   "execution_count": 31,
   "metadata": {},
   "outputs": [
    {
     "name": "stdout",
     "output_type": "stream",
     "text": [
      "(648, 82)\n",
      "(648,)\n"
     ]
    }
   ],
   "source": [
    "print(X.shape)\n",
    "print(y.shape)"
   ]
  },
  {
   "cell_type": "markdown",
   "metadata": {},
   "source": [
    "### Train Test Split"
   ]
  },
  {
   "cell_type": "code",
   "execution_count": 32,
   "metadata": {},
   "outputs": [
    {
     "name": "stdout",
     "output_type": "stream",
     "text": [
      "Training set - Features:  (518, 82) Target:  (518,)\n",
      "Test set - Features:  (130, 82) Target:  (130,)\n",
      "0    0.820463\n",
      "1    0.179537\n",
      "Name: alc, dtype: float64\n",
      "0    0.8\n",
      "1    0.2\n",
      "Name: alc, dtype: float64\n"
     ]
    }
   ],
   "source": [
    "#performing train-test split on main dataframe\n",
    "X_train, X_test, y_train, y_test = train_test_split(X, y, random_state=150, test_size=0.2)\n",
    "\n",
    "#checking the shape of the training set and test set\n",
    "print(\"Training set - Features: \", X_train.shape, \"Target: \", y_train.shape,)\n",
    "print(\"Test set - Features: \", X_test.shape, \"Target: \",y_test.shape,)\n",
    "print(y_train.value_counts(normalize = True))\n",
    "print(y_test.value_counts(normalize = True))"
   ]
  },
  {
   "cell_type": "markdown",
   "metadata": {},
   "source": [
    "### Handling Class Imbalance - with Oversampling minority class"
   ]
  },
  {
   "cell_type": "markdown",
   "metadata": {},
   "source": [
    "### Upsampling Minority"
   ]
  },
  {
   "cell_type": "code",
   "execution_count": 33,
   "metadata": {},
   "outputs": [],
   "source": [
    "# concatenate our training data back together\n",
    "training  = pd.concat([X_train, y_train], axis=1)"
   ]
  },
  {
   "cell_type": "code",
   "execution_count": 34,
   "metadata": {},
   "outputs": [
    {
     "name": "stdout",
     "output_type": "stream",
     "text": [
      "light drinker count: 425\n",
      "heavy drinker count: 93\n"
     ]
    }
   ],
   "source": [
    "# separate minority and majority classes\n",
    "light_drinker = training[training.alc==0]\n",
    "heavy_drinker = training[training.alc==1]\n",
    "\n",
    "# Get a class count to understand the class imbalance.\n",
    "print('light drinker count: '+ str(len(light_drinker)))\n",
    "print('heavy drinker count: '+ str(len(heavy_drinker)))"
   ]
  },
  {
   "cell_type": "code",
   "execution_count": 35,
   "metadata": {},
   "outputs": [],
   "source": [
    "from sklearn.utils import resample"
   ]
  },
  {
   "cell_type": "code",
   "execution_count": 36,
   "metadata": {},
   "outputs": [
    {
     "data": {
      "text/plain": [
       "(425, 83)"
      ]
     },
     "execution_count": 36,
     "metadata": {},
     "output_type": "execute_result"
    }
   ],
   "source": [
    "# upsample minority\n",
    "heavy_drinker_upsampled = resample(heavy_drinker,\n",
    "                          replace=True, # sample with replacement\n",
    "                          n_samples=len(light_drinker), # match number in majority class\n",
    "                          random_state=23) # reproducible results\n",
    "heavy_drinker_upsampled.shape"
   ]
  },
  {
   "cell_type": "code",
   "execution_count": 37,
   "metadata": {},
   "outputs": [
    {
     "data": {
      "text/plain": [
       "1    425\n",
       "0    425\n",
       "Name: alc, dtype: int64"
      ]
     },
     "execution_count": 37,
     "metadata": {},
     "output_type": "execute_result"
    }
   ],
   "source": [
    "# combine majority and upsampled minority\n",
    "upsampled = pd.concat([light_drinker, heavy_drinker_upsampled])\n",
    "\n",
    "# check new class counts\n",
    "upsampled.alc.value_counts()"
   ]
  },
  {
   "cell_type": "code",
   "execution_count": 38,
   "metadata": {},
   "outputs": [
    {
     "data": {
      "text/plain": [
       "(850, 69)"
      ]
     },
     "execution_count": 38,
     "metadata": {},
     "output_type": "execute_result"
    }
   ],
   "source": [
    "# trying logistic regression again with the balanced dataset\n",
    "y_train_up = upsampled.alc\n",
    "X_train_up = upsampled.drop(columns = 'alc', axis=1)\n",
    "X_train_up.drop(columns = dummy_feats, axis=1, inplace=True)\n",
    "X_train_up.shape\n",
    "\n",
    "# print(y_train_u.value_counts(normalize = True))\n",
    "# print(X_train_u.value_counts(normalize = True))"
   ]
  },
  {
   "cell_type": "markdown",
   "metadata": {},
   "source": [
    "# Feature Selection"
   ]
  },
  {
   "cell_type": "code",
   "execution_count": 39,
   "metadata": {},
   "outputs": [
    {
     "name": "stdout",
     "output_type": "stream",
     "text": [
      "31\n",
      "5\n",
      "13\n",
      "(850, 69)\n",
      "(850,)\n"
     ]
    }
   ],
   "source": [
    "print(len(orig_feats))\n",
    "print(len(new_feats))\n",
    "print(len(dummy_feats))\n",
    "print(X_train_up.shape)\n",
    "print(y_train_up.shape)"
   ]
  },
  {
   "cell_type": "markdown",
   "metadata": {},
   "source": [
    "### Select Kbest 10"
   ]
  },
  {
   "cell_type": "code",
   "execution_count": 40,
   "metadata": {},
   "outputs": [
    {
     "name": "stdout",
     "output_type": "stream",
     "text": [
      "(850, 10) (130, 10)\n"
     ]
    }
   ],
   "source": [
    "#setting parameters to choose the best 10 variables based on the significance of the variable F stat\n",
    "selector = SelectKBest(f_classif, k=10) #setting parameters to choose the best 10 variables based on the significance of the variable F stat\n",
    "\n",
    "#Fitting selector object to training set\n",
    "selector.fit(X_train_up, y_train_up)\n",
    "\n",
    "selected_columns = X_train_up.columns[selector.get_support()]\n",
    "removed_columns = X_train_up.columns[~selector.get_support()]\n",
    "\n",
    "X_train_kb10 = X_train_up[selected_columns]\n",
    "X_test_kb10 = X_test[selected_columns]\n",
    "print(X_train_kb10.shape, X_test_kb10.shape)"
   ]
  },
  {
   "cell_type": "markdown",
   "metadata": {},
   "source": [
    "### Select Kbest 15"
   ]
  },
  {
   "cell_type": "code",
   "execution_count": 41,
   "metadata": {},
   "outputs": [],
   "source": [
    "#setting parameters to choose the best 50 variables based on the significance of the variable F stat\n",
    "selector = SelectKBest(f_classif, k=15) #setting parameters to choose the best 50 variables based on the significance of the variable F stat\n",
    "\n",
    "#Fitting selector object to training set\n",
    "selector.fit(X_train_up, y_train_up)\n",
    "\n",
    "selected_columns = X_train_up.columns[selector.get_support()]\n",
    "removed_columns = X_train_up.columns[~selector.get_support()]\n",
    "\n",
    "X_train_kb15 = X_train_up[selected_columns]\n",
    "X_test_kb15 = X_test[selected_columns]"
   ]
  },
  {
   "cell_type": "markdown",
   "metadata": {},
   "source": [
    "### Select Kbest 20"
   ]
  },
  {
   "cell_type": "code",
   "execution_count": 42,
   "metadata": {},
   "outputs": [],
   "source": [
    "#setting parameters to choose the best 50 variables based on the significance of the variable F stat\n",
    "selector = SelectKBest(f_classif, k=20) #setting parameters to choose the best 50 variables based on the significance of the variable F stat\n",
    "\n",
    "#Fitting selector object to training set\n",
    "selector.fit(X_train_up, y_train_up)\n",
    "\n",
    "selected_columns = X_train_up.columns[selector.get_support()]\n",
    "removed_columns = X_train_up.columns[~selector.get_support()]\n",
    "\n",
    "X_train_kb20 = X_train_up[selected_columns]\n",
    "X_test_kb20 = X_test[selected_columns]"
   ]
  },
  {
   "cell_type": "markdown",
   "metadata": {},
   "source": [
    "### Select Kbest 25"
   ]
  },
  {
   "cell_type": "code",
   "execution_count": 43,
   "metadata": {},
   "outputs": [],
   "source": [
    "#setting parameters to choose the best 50 variables based on the significance of the variable F stat\n",
    "selector = SelectKBest(f_classif, k=25) #setting parameters to choose the best 50 variables based on the significance of the variable F stat\n",
    "\n",
    "#Fitting selector object to training set\n",
    "selector.fit(X_train_up, y_train_up)\n",
    "\n",
    "selected_columns = X_train_up.columns[selector.get_support()]\n",
    "removed_columns = X_train_up.columns[~selector.get_support()]\n",
    "\n",
    "X_train_kb25 = X_train_up[selected_columns]\n",
    "X_test_kb25 = X_test[selected_columns]"
   ]
  },
  {
   "cell_type": "markdown",
   "metadata": {},
   "source": [
    "### Select Kbest 30"
   ]
  },
  {
   "cell_type": "code",
   "execution_count": 44,
   "metadata": {},
   "outputs": [],
   "source": [
    "#setting parameters to choose the best 50 variables based on the significance of the variable F stat\n",
    "selector = SelectKBest(f_classif, k=30) #setting parameters to choose the best 50 variables based on the significance of the variable F stat\n",
    "\n",
    "#Fitting selector object to training set\n",
    "selector.fit(X_train_up, y_train_up)\n",
    "\n",
    "selected_columns = X_train_up.columns[selector.get_support()]\n",
    "removed_columns = X_train_up.columns[~selector.get_support()]\n",
    "\n",
    "X_train_kb30 = X_train_up[selected_columns]\n",
    "X_test_kb30 = X_test[selected_columns]"
   ]
  },
  {
   "cell_type": "markdown",
   "metadata": {},
   "source": [
    "### Select Kbest 35"
   ]
  },
  {
   "cell_type": "code",
   "execution_count": 45,
   "metadata": {},
   "outputs": [],
   "source": [
    "#setting parameters to choose the best 50 variables based on the significance of the variable F stat\n",
    "selector = SelectKBest(f_classif, k=35) #setting parameters to choose the best 50 variables based on the significance of the variable F stat\n",
    "\n",
    "#Fitting selector object to training set\n",
    "selector.fit(X_train_up, y_train_up)\n",
    "\n",
    "selected_columns = X_train_up.columns[selector.get_support()]\n",
    "removed_columns = X_train_up.columns[~selector.get_support()]\n",
    "\n",
    "X_train_kb35 = X_train_up[selected_columns]\n",
    "X_test_kb35 = X_test[selected_columns]"
   ]
  },
  {
   "cell_type": "markdown",
   "metadata": {},
   "source": [
    "# Models"
   ]
  },
  {
   "cell_type": "markdown",
   "metadata": {},
   "source": [
    "Our target variable in this project, tells whether a student is a heavy alcohol drinker or not. Our main concern here becomes that we do not want to predict that a student is not a heavy drinker when they actually are. Thus, we are interested in minimizing chances of any False Negatives. Correctly, identifying student has a problem allows us to appropriately allocate help or resources to ameliorate conditions for that student/s to minimize any drinking problem. \n",
    "\n",
    "Thus, our focus will be on the recall score or sensitivity score that tells us the proportion of actual positives identified correctly, given by (TP/(TP+FN). The higher this score, the better. \n",
    "\n",
    "We also looked at the Accuracy score and the F1 scores as extra metrics to compare model performance on."
   ]
  },
  {
   "cell_type": "markdown",
   "metadata": {},
   "source": [
    "### 1. BASELINE Model\n",
    "**Running a model without any class imbalance resolution on the original features with no transformations or scaling**"
   ]
  },
  {
   "cell_type": "code",
   "execution_count": 46,
   "metadata": {},
   "outputs": [
    {
     "name": "stdout",
     "output_type": "stream",
     "text": [
      "Test Accuracy score:  0.8384615384615385\n",
      "Train Accuracy score:  0.8706563706563707\n",
      "Test F1 score:  0.43243243243243246\n",
      "Train F1 score:  0.5562913907284769\n",
      "Test Recall score:  0.3076923076923077\n",
      "Train Recall score:  0.45161290322580644\n"
     ]
    }
   ],
   "source": [
    "lr1 = LogisticRegression(solver='liblinear', random_state=150)\n",
    "\n",
    "lr1.fit(X_train[orig_feats], y_train)\n",
    "\n",
    "y_pred_test = lr1.predict(X_test[orig_feats])\n",
    "y_pred_train = lr1.predict(X_train[orig_feats])\n",
    "\n",
    "# checking accuracy\n",
    "print('Test Accuracy score: ', metrics.accuracy_score(y_test, y_pred_test))\n",
    "print('Train Accuracy score: ', metrics.accuracy_score(y_train, y_pred_train))\n",
    "\n",
    "# checking accuracy\n",
    "print('Test F1 score: ', metrics.f1_score(y_test, y_pred_test))\n",
    "print('Train F1 score: ', metrics.f1_score(y_train, y_pred_train))\n",
    "\n",
    "# checking accuracy\n",
    "print('Test Recall score: ', metrics.recall_score(y_test, y_pred_test))\n",
    "print('Train Recall score: ', metrics.recall_score(y_train, y_pred_train))"
   ]
  },
  {
   "cell_type": "code",
   "execution_count": 47,
   "metadata": {},
   "outputs": [
    {
     "data": {
      "text/plain": [
       "{'1.lr_baseline': (0.8385, 0.4324, 0.3077)}"
      ]
     },
     "execution_count": 47,
     "metadata": {},
     "output_type": "execute_result"
    }
   ],
   "source": [
    "results = {}\n",
    "\n",
    "results['1.lr_baseline'] = (round(metrics.accuracy_score(y_test, y_pred_test),4), \n",
    "                            round(metrics.f1_score(y_test, y_pred_test),4), \n",
    "                          round(metrics.recall_score(y_test, y_pred_test),4))\n",
    "results"
   ]
  },
  {
   "cell_type": "markdown",
   "metadata": {},
   "source": [
    "#### Removing the dummied features from the train and test sets"
   ]
  },
  {
   "cell_type": "code",
   "execution_count": 48,
   "metadata": {},
   "outputs": [],
   "source": [
    "X_train1 = X_train.drop(columns = dummy_feats, axis = 1)\n",
    "X_test1 = X_test.drop(columns = dummy_feats, axis = 1)"
   ]
  },
  {
   "cell_type": "code",
   "execution_count": null,
   "metadata": {},
   "outputs": [],
   "source": []
  },
  {
   "cell_type": "markdown",
   "metadata": {},
   "source": [
    "### Scaling train and test sets"
   ]
  },
  {
   "cell_type": "code",
   "execution_count": 49,
   "metadata": {},
   "outputs": [],
   "source": [
    "scaler1 = MinMaxScaler()  \n",
    "scaler1.fit(X_train1)\n",
    "# Scaling Imbalanced data\n",
    "X_train_scaleI = scaler1.transform(X_train1)  \n",
    "X_test_scale = scaler1.transform(X_test1)\n",
    "\n",
    "#Scaling upsampled data\n",
    "scaler2 = MinMaxScaler()  \n",
    "scaler2.fit(X_train_up)\n",
    "\n",
    "X_train_scaleu = scaler2.transform(X_train_up)  \n"
   ]
  },
  {
   "cell_type": "code",
   "execution_count": 50,
   "metadata": {},
   "outputs": [
    {
     "name": "stdout",
     "output_type": "stream",
     "text": [
      "(518, 82)\n",
      "(130, 82)\n",
      "(518, 69)\n",
      "(130, 69)\n",
      "(850, 69)\n",
      "(850,)\n",
      "(518, 69)\n",
      "(850, 69)\n",
      "(130, 69)\n",
      "(130,)\n"
     ]
    }
   ],
   "source": [
    "print(X_train.shape) # All features train set\n",
    "print(X_test.shape) # All features test set\n",
    "\n",
    "print(X_train1.shape) #Removed dummied features\n",
    "print(X_test1.shape) # Removed dummied features\n",
    "\n",
    "print(X_train_up.shape) #Upsampled train set and no dummied vars\n",
    "print(y_train_up.shape)\n",
    "\n",
    "print(X_train_scaleI.shape) # Scaled Imbalanced X_train1 set\n",
    "\n",
    "print(X_train_scaleu.shape) # Scaled upsampled X_train_up set\n",
    "print(X_test_scale.shape) # Scaled X_test1 set\n",
    "\n",
    "print(y_test.shape)"
   ]
  },
  {
   "cell_type": "markdown",
   "metadata": {},
   "source": [
    "### 2. Logistic Regression with X_train_up (Upsampled Unscaled Train set)"
   ]
  },
  {
   "cell_type": "code",
   "execution_count": 51,
   "metadata": {},
   "outputs": [
    {
     "name": "stdout",
     "output_type": "stream",
     "text": [
      "Test Accuracy score:  0.8307692307692308\n",
      "Train Accuracy score:  0.8564705882352941\n",
      "Test F1 score:  0.5769230769230769\n",
      "Train F1 score:  0.858139534883721\n",
      "Test Recall score:  0.5769230769230769\n",
      "Train Recall score:  0.8682352941176471\n"
     ]
    }
   ],
   "source": [
    "upsampled_lr = LogisticRegression(solver='liblinear')\n",
    "\n",
    "\n",
    "upsampled_lr.fit(X_train_up, y_train_up)\n",
    "\n",
    "\n",
    "upsampled_pred_test = upsampled_lr.predict(X_test1)\n",
    "upsampled_pred_train = upsampled_lr.predict(X_train_up)\n",
    "\n",
    "\n",
    "# checking accuracy\n",
    "print('Test Accuracy score: ', metrics.accuracy_score(y_test, upsampled_pred_test))\n",
    "print('Train Accuracy score: ', metrics.accuracy_score(y_train_up, upsampled_pred_train))\n",
    "\n",
    "# checking accuracy\n",
    "print('Test F1 score: ', metrics.f1_score(y_test, upsampled_pred_test))\n",
    "print('Train F1 score: ', metrics.f1_score(y_train_up, upsampled_pred_train))\n",
    "\n",
    "# checking accuracy\n",
    "print('Test Recall score: ', metrics.recall_score(y_test, upsampled_pred_test))\n",
    "print('Train Recall score: ', metrics.recall_score(y_train_up, upsampled_pred_train))"
   ]
  },
  {
   "cell_type": "code",
   "execution_count": 52,
   "metadata": {},
   "outputs": [
    {
     "data": {
      "text/plain": [
       "{'1.lr_baseline': (0.8385, 0.4324, 0.3077),\n",
       " '2. lr_upsampled': (0.8308, 0.5769, 1)}"
      ]
     },
     "execution_count": 52,
     "metadata": {},
     "output_type": "execute_result"
    }
   ],
   "source": [
    "results['2. lr_upsampled'] = (round(metrics.accuracy_score(y_test, upsampled_pred_test),4), \n",
    "                           round(metrics.f1_score(y_test, upsampled_pred_test),4),\n",
    "                          round(metrics.recall_score(y_test, upsampled_pred_test)))\n",
    "results"
   ]
  },
  {
   "cell_type": "markdown",
   "metadata": {},
   "source": [
    "### 3. Logistic Regression with X_train_up (Upsampled and Scaled Train set)"
   ]
  },
  {
   "cell_type": "code",
   "execution_count": 53,
   "metadata": {},
   "outputs": [
    {
     "name": "stdout",
     "output_type": "stream",
     "text": [
      "Test Accuracy score:  0.7846153846153846\n",
      "Train Accuracy score:  0.6976470588235294\n",
      "Test F1 score:  0.2631578947368421\n",
      "Train F1 score:  0.5874799357945425\n",
      "Test Recall score:  0.19230769230769232\n",
      "Train Recall score:  0.43058823529411766\n"
     ]
    }
   ],
   "source": [
    "upscaled_lr = LogisticRegression(solver='liblinear')\n",
    "\n",
    "\n",
    "upscaled_lr.fit(X_train_scaleu, y_train_up)\n",
    "\n",
    "\n",
    "upscaled_pred_test = upsampled_lr.predict(X_test_scale)\n",
    "upscaled_pred_train = upsampled_lr.predict(X_train_scaleu)\n",
    "\n",
    "\n",
    "# checking accuracy\n",
    "print('Test Accuracy score: ', metrics.accuracy_score(y_test, upscaled_pred_test))\n",
    "print('Train Accuracy score: ', metrics.accuracy_score(y_train_up, upscaled_pred_train))\n",
    "\n",
    "# checking accuracy\n",
    "print('Test F1 score: ', metrics.f1_score(y_test, upscaled_pred_test))\n",
    "print('Train F1 score: ', metrics.f1_score(y_train_up, upscaled_pred_train))\n",
    "\n",
    "# checking accuracy\n",
    "print('Test Recall score: ', metrics.recall_score(y_test, upscaled_pred_test))\n",
    "print('Train Recall score: ', metrics.recall_score(y_train_up, upscaled_pred_train))"
   ]
  },
  {
   "cell_type": "code",
   "execution_count": 54,
   "metadata": {},
   "outputs": [
    {
     "data": {
      "text/plain": [
       "{'1.lr_baseline': (0.8385, 0.4324, 0.3077),\n",
       " '2. lr_upsampled': (0.8308, 0.5769, 1),\n",
       " '3.  lr_upscaled': (0.7846, 0.2632, 0.4306)}"
      ]
     },
     "execution_count": 54,
     "metadata": {},
     "output_type": "execute_result"
    }
   ],
   "source": [
    "results['3.  lr_upscaled'] = (round(metrics.accuracy_score(y_test, upscaled_pred_test),4), \n",
    "                           round(metrics.f1_score(y_test, upscaled_pred_test),4),\n",
    "                          round(metrics.recall_score(y_train_up, upscaled_pred_train),4))\n",
    "results\n"
   ]
  },
  {
   "cell_type": "markdown",
   "metadata": {},
   "source": [
    "### 4. Logistic Regression with K best 10"
   ]
  },
  {
   "cell_type": "code",
   "execution_count": 55,
   "metadata": {},
   "outputs": [
    {
     "name": "stdout",
     "output_type": "stream",
     "text": [
      "Test Accuracy score:  0.823076923076923\n",
      "Train Accuracy score:  0.7670588235294118\n",
      "Test F1 score:  0.5964912280701755\n",
      "Train F1 score:  0.7620192307692307\n",
      "Test Recall score:  0.6538461538461539\n",
      "Train Recall score:  0.7458823529411764\n"
     ]
    }
   ],
   "source": [
    "kb10_lr = LogisticRegression(solver='liblinear')\n",
    "\n",
    "\n",
    "kb10_lr.fit(X_train_kb10, y_train_up)\n",
    "\n",
    "\n",
    "kb10_pred_test = kb10_lr.predict(X_test_kb10)\n",
    "kb10_pred_train = kb10_lr.predict(X_train_kb10)\n",
    "\n",
    "\n",
    "# checking accuracy\n",
    "print('Test Accuracy score: ', metrics.accuracy_score(y_test, kb10_pred_test))\n",
    "print('Train Accuracy score: ', metrics.accuracy_score(y_train_up, kb10_pred_train))\n",
    "\n",
    "# checking accuracy\n",
    "print('Test F1 score: ', metrics.f1_score(y_test, kb10_pred_test))\n",
    "print('Train F1 score: ', metrics.f1_score(y_train_up, kb10_pred_train))\n",
    "\n",
    "# checking accuracy\n",
    "print('Test Recall score: ', metrics.recall_score(y_test, kb10_pred_test))\n",
    "print('Train Recall score: ', metrics.recall_score(y_train_up, kb10_pred_train))"
   ]
  },
  {
   "cell_type": "code",
   "execution_count": 56,
   "metadata": {},
   "outputs": [
    {
     "data": {
      "text/plain": [
       "{'1.lr_baseline': (0.8385, 0.4324, 0.3077),\n",
       " '2. lr_upsampled': (0.8308, 0.5769, 1),\n",
       " '3.  lr_upscaled': (0.7846, 0.2632, 0.4306),\n",
       " '4. lr_kb10': (0.8231, 0.5965, 0.6538)}"
      ]
     },
     "execution_count": 56,
     "metadata": {},
     "output_type": "execute_result"
    }
   ],
   "source": [
    "results['4. lr_kb10'] = (round(metrics.accuracy_score(y_test, kb10_pred_test),4), \n",
    "                           round(metrics.f1_score(y_test, kb10_pred_test),4),\n",
    "                     round(metrics.recall_score(y_test, kb10_pred_test),4))\n",
    "results"
   ]
  },
  {
   "cell_type": "markdown",
   "metadata": {},
   "source": [
    "### 5. Logistic Regression with K best 15"
   ]
  },
  {
   "cell_type": "code",
   "execution_count": 57,
   "metadata": {},
   "outputs": [
    {
     "name": "stdout",
     "output_type": "stream",
     "text": [
      "Test Accuracy score:  0.7692307692307693\n",
      "Train Accuracy score:  0.8\n",
      "Test F1 score:  0.4642857142857143\n",
      "Train F1 score:  0.8000000000000002\n",
      "Test Recall score:  0.5\n",
      "Train Recall score:  0.8\n"
     ]
    }
   ],
   "source": [
    "kb15_lr = LogisticRegression(solver='liblinear')\n",
    "\n",
    "kb15_lr.fit(X_train_kb15, y_train_up)\n",
    "\n",
    "\n",
    "kb15_pred_test = kb15_lr.predict(X_test_kb15)\n",
    "kb15_pred_train = kb15_lr.predict(X_train_kb15)\n",
    "\n",
    "\n",
    "# checking accuracy\n",
    "print('Test Accuracy score: ', metrics.accuracy_score(y_test, kb15_pred_test))\n",
    "print('Train Accuracy score: ', metrics.accuracy_score(y_train_up, kb15_pred_train))\n",
    "\n",
    "# checking accuracy\n",
    "print('Test F1 score: ', metrics.f1_score(y_test, kb15_pred_test))\n",
    "print('Train F1 score: ', metrics.f1_score(y_train_up, kb15_pred_train))\n",
    "\n",
    "# checking accuracy\n",
    "print('Test Recall score: ', metrics.recall_score(y_test, kb15_pred_test))\n",
    "print('Train Recall score: ', metrics.recall_score(y_train_up, kb15_pred_train))"
   ]
  },
  {
   "cell_type": "code",
   "execution_count": 58,
   "metadata": {},
   "outputs": [
    {
     "data": {
      "text/plain": [
       "{'1.lr_baseline': (0.8385, 0.4324, 0.3077),\n",
       " '2. lr_upsampled': (0.8308, 0.5769, 1),\n",
       " '3.  lr_upscaled': (0.7846, 0.2632, 0.4306),\n",
       " '4. lr_kb10': (0.8231, 0.5965, 0.6538),\n",
       " '5. lr_kb15': (0.7692, 0.4643, 0.5)}"
      ]
     },
     "execution_count": 58,
     "metadata": {},
     "output_type": "execute_result"
    }
   ],
   "source": [
    "results['5. lr_kb15'] = (round(metrics.accuracy_score(y_test, kb15_pred_test),4), \n",
    "                           round(metrics.f1_score(y_test, kb15_pred_test),4),\n",
    "                     round(metrics.recall_score(y_test, kb15_pred_test),4))\n",
    "results"
   ]
  },
  {
   "cell_type": "markdown",
   "metadata": {},
   "source": [
    "### 6. Logistic Regression with K best 20"
   ]
  },
  {
   "cell_type": "code",
   "execution_count": 59,
   "metadata": {},
   "outputs": [
    {
     "name": "stdout",
     "output_type": "stream",
     "text": [
      "Test Accuracy score:  0.7769230769230769\n",
      "Train Accuracy score:  0.7694117647058824\n",
      "Test F1 score:  0.4528301886792453\n",
      "Train F1 score:  0.7672209026128267\n",
      "Test Recall score:  0.46153846153846156\n",
      "Train Recall score:  0.76\n"
     ]
    }
   ],
   "source": [
    "kb20_lr = LogisticRegression(solver='liblinear')\n",
    "\n",
    "kb20_lr.fit(X_train_kb20, y_train_up)\n",
    "\n",
    "\n",
    "kb20_pred_test = kb20_lr.predict(X_test_kb20)\n",
    "kb20_pred_train = kb20_lr.predict(X_train_kb20)\n",
    "\n",
    "\n",
    "# checking accuracy\n",
    "print('Test Accuracy score: ', metrics.accuracy_score(y_test, kb20_pred_test))\n",
    "print('Train Accuracy score: ', metrics.accuracy_score(y_train_up, kb20_pred_train))\n",
    "\n",
    "# checking accuracy\n",
    "print('Test F1 score: ', metrics.f1_score(y_test, kb20_pred_test))\n",
    "print('Train F1 score: ', metrics.f1_score(y_train_up, kb20_pred_train))\n",
    "\n",
    "# checking accuracy\n",
    "print('Test Recall score: ', metrics.recall_score(y_test, kb20_pred_test))\n",
    "print('Train Recall score: ', metrics.recall_score(y_train_up, kb20_pred_train))"
   ]
  },
  {
   "cell_type": "code",
   "execution_count": 60,
   "metadata": {},
   "outputs": [
    {
     "data": {
      "text/plain": [
       "{'1.lr_baseline': (0.8385, 0.4324, 0.3077),\n",
       " '2. lr_upsampled': (0.8308, 0.5769, 1),\n",
       " '3.  lr_upscaled': (0.7846, 0.2632, 0.4306),\n",
       " '4. lr_kb10': (0.8231, 0.5965, 0.6538),\n",
       " '5. lr_kb15': (0.7692, 0.4643, 0.5),\n",
       " '6.lr_kb20': (0.7769, 0.4528, 0.4615)}"
      ]
     },
     "execution_count": 60,
     "metadata": {},
     "output_type": "execute_result"
    }
   ],
   "source": [
    "results['6.lr_kb20'] = (round(metrics.accuracy_score(y_test, kb20_pred_test),4), \n",
    "                           round(metrics.f1_score(y_test, kb20_pred_test),4),\n",
    "                     round(metrics.recall_score(y_test, kb20_pred_test),4))\n",
    "results"
   ]
  },
  {
   "cell_type": "markdown",
   "metadata": {},
   "source": [
    "### 7. Logistic Regression with K best 25"
   ]
  },
  {
   "cell_type": "code",
   "execution_count": 61,
   "metadata": {},
   "outputs": [
    {
     "name": "stdout",
     "output_type": "stream",
     "text": [
      "Test Accuracy score:  0.7769230769230769\n",
      "Train Accuracy score:  0.7623529411764706\n",
      "Test F1 score:  0.4727272727272727\n",
      "Train F1 score:  0.7583732057416267\n",
      "Test Recall score:  0.5\n",
      "Train Recall score:  0.7458823529411764\n"
     ]
    }
   ],
   "source": [
    "kb25_lr = LogisticRegression(solver='liblinear')\n",
    "\n",
    "kb25_lr.fit(X_train_kb25, y_train_up)\n",
    "\n",
    "\n",
    "kb25_pred_test = kb25_lr.predict(X_test_kb25)\n",
    "kb25_pred_train = kb25_lr.predict(X_train_kb25)\n",
    "\n",
    "\n",
    "# checking accuracy\n",
    "print('Test Accuracy score: ', metrics.accuracy_score(y_test, kb25_pred_test))\n",
    "print('Train Accuracy score: ', metrics.accuracy_score(y_train_up, kb25_pred_train))\n",
    "\n",
    "# checking accuracy\n",
    "print('Test F1 score: ', metrics.f1_score(y_test, kb25_pred_test))\n",
    "print('Train F1 score: ', metrics.f1_score(y_train_up, kb25_pred_train))\n",
    "\n",
    "# checking accuracy\n",
    "print('Test Recall score: ', metrics.recall_score(y_test, kb25_pred_test))\n",
    "print('Train Recall score: ', metrics.recall_score(y_train_up, kb25_pred_train))"
   ]
  },
  {
   "cell_type": "code",
   "execution_count": 62,
   "metadata": {},
   "outputs": [
    {
     "data": {
      "text/plain": [
       "{'1.lr_baseline': (0.8385, 0.4324, 0.3077),\n",
       " '2. lr_upsampled': (0.8308, 0.5769, 1),\n",
       " '3.  lr_upscaled': (0.7846, 0.2632, 0.4306),\n",
       " '4. lr_kb10': (0.8231, 0.5965, 0.6538),\n",
       " '5. lr_kb15': (0.7692, 0.4643, 0.5),\n",
       " '6.lr_kb20': (0.7769, 0.4528, 0.4615),\n",
       " '7. lr_kb25': (0.7769, 0.4727, 0.5)}"
      ]
     },
     "execution_count": 62,
     "metadata": {},
     "output_type": "execute_result"
    }
   ],
   "source": [
    "results['7. lr_kb25'] = (round(metrics.accuracy_score(y_test, kb25_pred_test),4), \n",
    "                           round(metrics.f1_score(y_test, kb25_pred_test),4),\n",
    "                     round(metrics.recall_score(y_test, kb25_pred_test),4))\n",
    "results"
   ]
  },
  {
   "cell_type": "markdown",
   "metadata": {},
   "source": [
    "### 8. Logistic Regression with K best 30"
   ]
  },
  {
   "cell_type": "code",
   "execution_count": 63,
   "metadata": {},
   "outputs": [
    {
     "name": "stdout",
     "output_type": "stream",
     "text": [
      "Test Accuracy score:  0.7769230769230769\n",
      "Train Accuracy score:  0.8235294117647058\n",
      "Test F1 score:  0.40816326530612246\n",
      "Train F1 score:  0.8247663551401869\n",
      "Test Recall score:  0.38461538461538464\n",
      "Train Recal score:  0.8305882352941176\n"
     ]
    }
   ],
   "source": [
    "kb30_lr = LogisticRegression(solver='liblinear')\n",
    "\n",
    "kb30_lr.fit(X_train_kb30, y_train_up)\n",
    "\n",
    "\n",
    "kb30_pred_test = kb30_lr.predict(X_test_kb30)\n",
    "kb30_pred_train = kb30_lr.predict(X_train_kb30)\n",
    "\n",
    "\n",
    "# checking accuracy\n",
    "print('Test Accuracy score: ', metrics.accuracy_score(y_test, kb30_pred_test))\n",
    "print('Train Accuracy score: ', metrics.accuracy_score(y_train_up, kb30_pred_train))\n",
    "\n",
    "# checking accuracy\n",
    "print('Test F1 score: ', metrics.f1_score(y_test, kb30_pred_test))\n",
    "print('Train F1 score: ', metrics.f1_score(y_train_up, kb30_pred_train))\n",
    "\n",
    "# checking accuracy\n",
    "print('Test Recall score: ', metrics.recall_score(y_test, kb30_pred_test))\n",
    "print('Train Recal score: ', metrics.recall_score(y_train_up, kb30_pred_train))"
   ]
  },
  {
   "cell_type": "code",
   "execution_count": 64,
   "metadata": {},
   "outputs": [
    {
     "data": {
      "text/plain": [
       "{'1.lr_baseline': (0.8385, 0.4324, 0.3077),\n",
       " '2. lr_upsampled': (0.8308, 0.5769, 1),\n",
       " '3.  lr_upscaled': (0.7846, 0.2632, 0.4306),\n",
       " '4. lr_kb10': (0.8231, 0.5965, 0.6538),\n",
       " '5. lr_kb15': (0.7692, 0.4643, 0.5),\n",
       " '6.lr_kb20': (0.7769, 0.4528, 0.4615),\n",
       " '7. lr_kb25': (0.7769, 0.4727, 0.5),\n",
       " '8. lr_kb30': (0.7769, 0.4082, 0.3846)}"
      ]
     },
     "execution_count": 64,
     "metadata": {},
     "output_type": "execute_result"
    }
   ],
   "source": [
    "results['8. lr_kb30'] = (round(metrics.accuracy_score(y_test, kb30_pred_test),4), \n",
    "                           round(metrics.f1_score(y_test, kb30_pred_test),4),\n",
    "                     round(metrics.recall_score(y_test, kb30_pred_test),4))\n",
    "results"
   ]
  },
  {
   "cell_type": "markdown",
   "metadata": {},
   "source": [
    "### 9. Logistic Regression with K best 35"
   ]
  },
  {
   "cell_type": "code",
   "execution_count": 65,
   "metadata": {},
   "outputs": [
    {
     "name": "stdout",
     "output_type": "stream",
     "text": [
      "Test Accuracy score:  0.8076923076923077\n",
      "Train Accuracy score:  0.8152941176470588\n",
      "Test F1 score:  0.5098039215686274\n",
      "Train F1 score:  0.8159437280187573\n",
      "Test Recall score:  0.5\n",
      "Train Recall score:  0.8188235294117647\n"
     ]
    }
   ],
   "source": [
    "kb35_lr = LogisticRegression(solver='liblinear')\n",
    "\n",
    "kb35_lr.fit(X_train_kb35, y_train_up)\n",
    "\n",
    "\n",
    "kb35_pred_test = kb35_lr.predict(X_test_kb35)\n",
    "kb35_pred_train = kb35_lr.predict(X_train_kb35)\n",
    "\n",
    "\n",
    "# checking accuracy\n",
    "print('Test Accuracy score: ', metrics.accuracy_score(y_test, kb35_pred_test))\n",
    "print('Train Accuracy score: ', metrics.accuracy_score(y_train_up, kb35_pred_train))\n",
    "\n",
    "# checking accuracy\n",
    "print('Test F1 score: ', metrics.f1_score(y_test, kb35_pred_test))\n",
    "print('Train F1 score: ', metrics.f1_score(y_train_up, kb35_pred_train))\n",
    "\n",
    "# checking accuracy\n",
    "print('Test Recall score: ', metrics.recall_score(y_test, kb35_pred_test))\n",
    "print('Train Recall score: ', metrics.recall_score(y_train_up, kb35_pred_train))"
   ]
  },
  {
   "cell_type": "code",
   "execution_count": 66,
   "metadata": {},
   "outputs": [
    {
     "data": {
      "text/plain": [
       "{'1.lr_baseline': (0.8385, 0.4324, 0.3077),\n",
       " '2. lr_upsampled': (0.8308, 0.5769, 1),\n",
       " '3.  lr_upscaled': (0.7846, 0.2632, 0.4306),\n",
       " '4. lr_kb10': (0.8231, 0.5965, 0.6538),\n",
       " '5. lr_kb15': (0.7692, 0.4643, 0.5),\n",
       " '6.lr_kb20': (0.7769, 0.4528, 0.4615),\n",
       " '7. lr_kb25': (0.7769, 0.4727, 0.5),\n",
       " '8. lr_kb30': (0.7769, 0.4082, 0.3846),\n",
       " '9. lr_kb35': (0.8077, 0.5098, 0.5)}"
      ]
     },
     "execution_count": 66,
     "metadata": {},
     "output_type": "execute_result"
    }
   ],
   "source": [
    "results['9. lr_kb35'] = (round(metrics.accuracy_score(y_test, kb35_pred_test),4), \n",
    "                           round(metrics.f1_score(y_test, kb35_pred_test),4),\n",
    "                     round(metrics.recall_score(y_test, kb35_pred_test),4))\n",
    "results"
   ]
  },
  {
   "cell_type": "markdown",
   "metadata": {},
   "source": [
    "### 10.  K best for the Upsampled and  Scaled Train Set -KNN1"
   ]
  },
  {
   "cell_type": "markdown",
   "metadata": {},
   "source": [
    "#### Optimal K for KNN"
   ]
  },
  {
   "cell_type": "code",
   "execution_count": 67,
   "metadata": {},
   "outputs": [],
   "source": [
    "#fumction to find the position of the maximum value in a list\n",
    "def max_value(l):\n",
    "    max_val = max(l)\n",
    "    max_idx = l.index(max_val)\n",
    "    return max_idx, max_val"
   ]
  },
  {
   "cell_type": "code",
   "execution_count": 68,
   "metadata": {},
   "outputs": [
    {
     "name": "stdout",
     "output_type": "stream",
     "text": [
      "11 0.7538461538461538\n"
     ]
    }
   ],
   "source": [
    "#create a container to track the scores\n",
    "k_scores1=[]\n",
    "\n",
    "#set up a loop to fit the model using a different values of K\n",
    "\n",
    "k_range = list(range(10, 35))\n",
    "for k in k_range:\n",
    "    knn1 = KNeighborsClassifier(n_neighbors=k)\n",
    "    #fit the model and get the score on a evaluation metric\n",
    "    knn1.fit(X_train_scaleu, y_train_up)\n",
    "    y_pred = knn1.predict(X_test_scale)\n",
    "    \n",
    "    acc2 = metrics.accuracy_score(y_test, y_pred)\n",
    "    \n",
    "    k_scores1.append(acc2)\n",
    "\n",
    "#use the max_value function to find the K value that gives you the best accuracy pred \n",
    "idx, val = max_value(k_scores1)\n",
    "    \n",
    "print(idx+1, val)"
   ]
  },
  {
   "cell_type": "code",
   "execution_count": 69,
   "metadata": {},
   "outputs": [
    {
     "name": "stdout",
     "output_type": "stream",
     "text": [
      "Test Accuracy score:  0.7\n",
      "Train Accuracy score:  0.7988235294117647\n",
      "Test F1 score:  0.4657534246575342\n",
      "Train F1 score:  0.8089385474860334\n",
      "Test Recall score:  0.6538461538461539\n",
      "Train Recall score:  0.851764705882353\n"
     ]
    }
   ],
   "source": [
    "knn = KNeighborsClassifier(n_neighbors=11)\n",
    "\n",
    "knn.fit(X_train_scaleu, y_train_up)\n",
    "\n",
    "y_pred_test =knn.predict(X_test_scale)\n",
    "y_pred_train = knn.predict(X_train_scaleu)\n",
    "\n",
    "# checking accuracy\n",
    "print('Test Accuracy score: ', metrics.accuracy_score(y_test, y_pred_test))\n",
    "print('Train Accuracy score: ', metrics.accuracy_score(y_train_up, y_pred_train))\n",
    "\n",
    "# checking accuracy\n",
    "print('Test F1 score: ', metrics.f1_score(y_test, y_pred_test))\n",
    "print('Train F1 score: ', metrics.f1_score(y_train_up, y_pred_train))\n",
    "\n",
    "# checking accuracy\n",
    "print('Test Recall score: ', metrics.recall_score(y_test, y_pred_test))\n",
    "print('Train Recall score: ', metrics.recall_score(y_train_up, y_pred_train))"
   ]
  },
  {
   "cell_type": "code",
   "execution_count": 70,
   "metadata": {},
   "outputs": [
    {
     "data": {
      "text/plain": [
       "{'1.lr_baseline': (0.8385, 0.4324, 0.3077),\n",
       " '2. lr_upsampled': (0.8308, 0.5769, 1),\n",
       " '3.  lr_upscaled': (0.7846, 0.2632, 0.4306),\n",
       " '4. lr_kb10': (0.8231, 0.5965, 0.6538),\n",
       " '5. lr_kb15': (0.7692, 0.4643, 0.5),\n",
       " '6.lr_kb20': (0.7769, 0.4528, 0.4615),\n",
       " '7. lr_kb25': (0.7769, 0.4727, 0.5),\n",
       " '8. lr_kb30': (0.7769, 0.4082, 0.3846),\n",
       " '9. lr_kb35': (0.8077, 0.5098, 0.5),\n",
       " '10. knn_upscaled': (0.7, 0.4658, 0.6538)}"
      ]
     },
     "execution_count": 70,
     "metadata": {},
     "output_type": "execute_result"
    }
   ],
   "source": [
    "results['10. knn_upscaled'] = (round(metrics.accuracy_score(y_test, y_pred_test),4), \n",
    "                              round(metrics.f1_score(y_test, y_pred_test),4),\n",
    "                          round(metrics.recall_score(y_test, y_pred_test),4))\n",
    "results"
   ]
  },
  {
   "cell_type": "markdown",
   "metadata": {},
   "source": [
    "### 11. K best for the Imbalanced and  Scaled Train Set - KNN2"
   ]
  },
  {
   "cell_type": "code",
   "execution_count": 71,
   "metadata": {},
   "outputs": [
    {
     "name": "stdout",
     "output_type": "stream",
     "text": [
      "1 0.8153846153846154\n"
     ]
    }
   ],
   "source": [
    "#create a container to track the scores\n",
    "k_scores2=[]\n",
    "\n",
    "#set up a loop to fit the model using a different values of K\n",
    "\n",
    "k_range = list(range(10, 35))\n",
    "for k in k_range:\n",
    "    knn2 = KNeighborsClassifier(n_neighbors=k)\n",
    "    #fit the model and get the score on a evaluation metric\n",
    "    knn2.fit(X_train_scaleI, y_train)\n",
    "    y_pred= knn2.predict(X_test_scale)\n",
    "    \n",
    "    acc2 = metrics.accuracy_score(y_test, y_pred)\n",
    "    \n",
    "    k_scores2.append(acc2)\n",
    "\n",
    "#use the max_value function to find the K value that gives you the best accuracy pred \n",
    "idx, val = max_value(k_scores2)\n",
    "    \n",
    "print(idx+1, val)"
   ]
  },
  {
   "cell_type": "code",
   "execution_count": 72,
   "metadata": {},
   "outputs": [
    {
     "name": "stdout",
     "output_type": "stream",
     "text": [
      "Test Accuracy score:  0.7846153846153846\n",
      "Train Accuracy score:  1.0\n",
      "Test F1 score:  0.41666666666666663\n",
      "Train F1 score:  1.0\n",
      "Test Recall score:  0.38461538461538464\n",
      "Train Recall; score:  1.0\n"
     ]
    }
   ],
   "source": [
    "knn2 = KNeighborsClassifier(n_neighbors=1)\n",
    "\n",
    "knn2.fit(X_train_scaleI, y_train)\n",
    "\n",
    "y_pred_test =knn2.predict(X_test_scale)\n",
    "y_pred_train = knn2.predict(X_train_scaleI)\n",
    "\n",
    "# checking accuracy\n",
    "print('Test Accuracy score: ', metrics.accuracy_score(y_test, y_pred_test))\n",
    "print('Train Accuracy score: ', metrics.accuracy_score(y_train, y_pred_train))\n",
    "\n",
    "# checking accuracy\n",
    "print('Test F1 score: ', metrics.f1_score(y_test, y_pred_test))\n",
    "print('Train F1 score: ', metrics.f1_score(y_train, y_pred_train))\n",
    "\n",
    "# checking accuracy\n",
    "print('Test Recall score: ', metrics.recall_score(y_test, y_pred_test))\n",
    "print('Train Recall; score: ', metrics.recall_score(y_train, y_pred_train))"
   ]
  },
  {
   "cell_type": "code",
   "execution_count": 73,
   "metadata": {},
   "outputs": [
    {
     "data": {
      "text/plain": [
       "{'1.lr_baseline': (0.8385, 0.4324, 0.3077),\n",
       " '2. lr_upsampled': (0.8308, 0.5769, 1),\n",
       " '3.  lr_upscaled': (0.7846, 0.2632, 0.4306),\n",
       " '4. lr_kb10': (0.8231, 0.5965, 0.6538),\n",
       " '5. lr_kb15': (0.7692, 0.4643, 0.5),\n",
       " '6.lr_kb20': (0.7769, 0.4528, 0.4615),\n",
       " '7. lr_kb25': (0.7769, 0.4727, 0.5),\n",
       " '8. lr_kb30': (0.7769, 0.4082, 0.3846),\n",
       " '9. lr_kb35': (0.8077, 0.5098, 0.5),\n",
       " '10. knn_upscaled': (0.7, 0.4658, 0.6538),\n",
       " '11. knn2_imbscaled': (0.7846, 0.3846, 0.3846)}"
      ]
     },
     "execution_count": 73,
     "metadata": {},
     "output_type": "execute_result"
    }
   ],
   "source": [
    "results['11. knn2_imbscaled'] = (round(metrics.accuracy_score(y_test, y_pred_test),4), \n",
    "                             round(metrics.recall_score(y_test, y_pred_test),4),\n",
    "                            round(metrics.recall_score(y_test, y_pred_test),4))\n",
    "results"
   ]
  },
  {
   "cell_type": "code",
   "execution_count": null,
   "metadata": {},
   "outputs": [],
   "source": []
  },
  {
   "cell_type": "markdown",
   "metadata": {},
   "source": [
    "### 12. KNN for the Kbest25"
   ]
  },
  {
   "cell_type": "code",
   "execution_count": 74,
   "metadata": {},
   "outputs": [
    {
     "name": "stdout",
     "output_type": "stream",
     "text": [
      "Test Accuracy score:  0.823076923076923\n",
      "Train Accuracy score:  0.8164705882352942\n",
      "Test F1 score:  0.25806451612903225\n",
      "Train F1 score:  0.8223234624145785\n",
      "Test Recall score:  0.15384615384615385\n",
      "Train Recall score:  0.8494117647058823\n"
     ]
    }
   ],
   "source": [
    "#Scaling upsampled data\n",
    "scaler3 = MinMaxScaler()  \n",
    "scaler3.fit(X_train_kb25)\n",
    "\n",
    "X_train_kb25scale = scaler3.transform(X_train_kb25) \n",
    "\n",
    "knn3 = KNeighborsClassifier(n_neighbors=11)\n",
    "\n",
    "knn3.fit(X_train_kb25scale, y_train_up)\n",
    "\n",
    "y_pred_test =knn3.predict(X_test_kb25)\n",
    "y_pred_train = knn3.predict(X_train_kb25scale)\n",
    "\n",
    "# checking accuracy\n",
    "print('Test Accuracy score: ', metrics.accuracy_score(y_test, y_pred_test))\n",
    "print('Train Accuracy score: ', metrics.accuracy_score(y_train_up, y_pred_train))\n",
    "\n",
    "# checking accuracy\n",
    "print('Test F1 score: ', metrics.f1_score(y_test, y_pred_test))\n",
    "print('Train F1 score: ', metrics.f1_score(y_train_up, y_pred_train))\n",
    "\n",
    "# checking accuracy\n",
    "print('Test Recall score: ', metrics.recall_score(y_test, y_pred_test))\n",
    "print('Train Recall score: ', metrics.recall_score(y_train_up, y_pred_train))"
   ]
  },
  {
   "cell_type": "code",
   "execution_count": 75,
   "metadata": {},
   "outputs": [
    {
     "data": {
      "text/plain": [
       "{'1.lr_baseline': (0.8385, 0.4324, 0.3077),\n",
       " '2. lr_upsampled': (0.8308, 0.5769, 1),\n",
       " '3.  lr_upscaled': (0.7846, 0.2632, 0.4306),\n",
       " '4. lr_kb10': (0.8231, 0.5965, 0.6538),\n",
       " '5. lr_kb15': (0.7692, 0.4643, 0.5),\n",
       " '6.lr_kb20': (0.7769, 0.4528, 0.4615),\n",
       " '7. lr_kb25': (0.7769, 0.4727, 0.5),\n",
       " '8. lr_kb30': (0.7769, 0.4082, 0.3846),\n",
       " '9. lr_kb35': (0.8077, 0.5098, 0.5),\n",
       " '10. knn_upscaled': (0.7, 0.4658, 0.6538),\n",
       " '11. knn2_imbscaled': (0.7846, 0.3846, 0.3846),\n",
       " '12. knn3_kb25': (0.8231, 0.2581, 0.1538)}"
      ]
     },
     "execution_count": 75,
     "metadata": {},
     "output_type": "execute_result"
    }
   ],
   "source": [
    "results['12. knn3_kb25'] = (round(metrics.accuracy_score(y_test, y_pred_test),4), \n",
    "                             round(metrics.f1_score(y_test, y_pred_test),4),\n",
    "                            round(metrics.recall_score(y_test, y_pred_test),4))\n",
    "results"
   ]
  },
  {
   "cell_type": "code",
   "execution_count": 76,
   "metadata": {},
   "outputs": [
    {
     "data": {
      "image/png": "[encoded data removed]",
      "text/plain": [
       "<Figure size 432x288 with 2 Axes>"
      ]
     },
     "metadata": {
      "needs_background": "light"
     },
     "output_type": "display_data"
    }
   ],
   "source": [
    "from sklearn.metrics import confusion_matrix\n",
    "from sklearn.metrics import ConfusionMatrixDisplay\n",
    "\n",
    "cm = confusion_matrix(y_test, y_pred_test)\n",
    "\n",
    "cm_display = ConfusionMatrixDisplay(cm).plot()"
   ]
  },
  {
   "cell_type": "markdown",
   "metadata": {},
   "source": [
    "### 13. KNN for Kbest 30"
   ]
  },
  {
   "cell_type": "code",
   "execution_count": 77,
   "metadata": {},
   "outputs": [
    {
     "name": "stdout",
     "output_type": "stream",
     "text": [
      "Test Accuracy score:  0.823076923076923\n",
      "Train Accuracy score:  0.831764705882353\n",
      "Test F1 score:  0.25806451612903225\n",
      "Train F1 score:  0.8387824126268321\n",
      "Test Recall score:  0.15384615384615385\n",
      "Train Recall score:  0.8752941176470588\n"
     ]
    }
   ],
   "source": [
    "#Scaling upsampled data\n",
    "scaler4 = MinMaxScaler()  \n",
    "scaler4.fit(X_train_kb30)\n",
    "\n",
    "X_train_kb30scale = scaler4.transform(X_train_kb30)\n",
    "                                     \n",
    "knn4 = KNeighborsClassifier(n_neighbors=11)\n",
    "\n",
    "knn4.fit(X_train_kb30scale, y_train_up)\n",
    "\n",
    "y_pred_test =knn4.predict(X_test_kb30)\n",
    "y_pred_train = knn4.predict(X_train_kb30scale)\n",
    "\n",
    "# checking accuracy\n",
    "print('Test Accuracy score: ', metrics.accuracy_score(y_test, y_pred_test))\n",
    "print('Train Accuracy score: ', metrics.accuracy_score(y_train_up, y_pred_train))\n",
    "\n",
    "# checking accuracy\n",
    "print('Test F1 score: ', metrics.f1_score(y_test, y_pred_test))\n",
    "print('Train F1 score: ', metrics.f1_score(y_train_up, y_pred_train))\n",
    "\n",
    "# checking accuracy\n",
    "print('Test Recall score: ', metrics.recall_score(y_test, y_pred_test))\n",
    "print('Train Recall score: ', metrics.recall_score(y_train_up, y_pred_train))"
   ]
  },
  {
   "cell_type": "code",
   "execution_count": 78,
   "metadata": {},
   "outputs": [
    {
     "data": {
      "text/plain": [
       "{'1.lr_baseline': (0.8385, 0.4324, 0.3077),\n",
       " '2. lr_upsampled': (0.8308, 0.5769, 1),\n",
       " '3.  lr_upscaled': (0.7846, 0.2632, 0.4306),\n",
       " '4. lr_kb10': (0.8231, 0.5965, 0.6538),\n",
       " '5. lr_kb15': (0.7692, 0.4643, 0.5),\n",
       " '6.lr_kb20': (0.7769, 0.4528, 0.4615),\n",
       " '7. lr_kb25': (0.7769, 0.4727, 0.5),\n",
       " '8. lr_kb30': (0.7769, 0.4082, 0.3846),\n",
       " '9. lr_kb35': (0.8077, 0.5098, 0.5),\n",
       " '10. knn_upscaled': (0.7, 0.4658, 0.6538),\n",
       " '11. knn2_imbscaled': (0.7846, 0.3846, 0.3846),\n",
       " '12. knn3_kb25': (0.8231, 0.2581, 0.1538),\n",
       " '13. knn4_kb30': (0.8231, 0.1538, 0.1538)}"
      ]
     },
     "execution_count": 78,
     "metadata": {},
     "output_type": "execute_result"
    }
   ],
   "source": [
    "results['13. knn4_kb30'] = (round(metrics.accuracy_score(y_test, y_pred_test),4), \n",
    "                             round(metrics.recall_score(y_test, y_pred_test),4),\n",
    "                            round(metrics.recall_score(y_test, y_pred_test),4))\n",
    "results"
   ]
  },
  {
   "cell_type": "markdown",
   "metadata": {},
   "source": [
    "### 14.Decision Tree Classifier"
   ]
  },
  {
   "cell_type": "code",
   "execution_count": 79,
   "metadata": {},
   "outputs": [
    {
     "name": "stdout",
     "output_type": "stream",
     "text": [
      "Test Accuracy score:  0.7615384615384615\n",
      "Train Accuracy score:  0.9835294117647059\n",
      "Test F1 score:  0.36734693877551017\n",
      "Train F1 score:  0.9837962962962963\n",
      "Test Recall score:  0.34615384615384615\n",
      "Train Recall score:  1.0\n"
     ]
    }
   ],
   "source": [
    "dtc1 = DecisionTreeClassifier(max_depth=10)\n",
    "\n",
    "#Train Decision Tree Classifier\n",
    "dtc1.fit(X_train_up,y_train_up)\n",
    "\n",
    "#predict the training set\n",
    "y_pred_train = dtc1.predict(X_train_up)\n",
    "\n",
    "#Predict the response for test dataset\n",
    "y_pred_test = dtc1.predict(X_test1)\n",
    "\n",
    "# Model Accuracy, how often is the classifier correct?\n",
    "# checking accuracy\n",
    "print('Test Accuracy score: ', metrics.accuracy_score(y_test, y_pred_test))\n",
    "print('Train Accuracy score: ', metrics.accuracy_score(y_train_up, y_pred_train))\n",
    "\n",
    "# checking accuracy\n",
    "print('Test F1 score: ', metrics.f1_score(y_test, y_pred_test))\n",
    "print('Train F1 score: ', metrics.f1_score(y_train_up, y_pred_train))\n",
    "\n",
    "# checking accuracy\n",
    "print('Test Recall score: ', metrics.recall_score(y_test, y_pred_test))\n",
    "print('Train Recall score: ', metrics.recall_score(y_train_up, y_pred_train))"
   ]
  },
  {
   "cell_type": "code",
   "execution_count": 80,
   "metadata": {},
   "outputs": [
    {
     "data": {
      "text/plain": [
       "{'1.lr_baseline': (0.8385, 0.4324, 0.3077),\n",
       " '2. lr_upsampled': (0.8308, 0.5769, 1),\n",
       " '3.  lr_upscaled': (0.7846, 0.2632, 0.4306),\n",
       " '4. lr_kb10': (0.8231, 0.5965, 0.6538),\n",
       " '5. lr_kb15': (0.7692, 0.4643, 0.5),\n",
       " '6.lr_kb20': (0.7769, 0.4528, 0.4615),\n",
       " '7. lr_kb25': (0.7769, 0.4727, 0.5),\n",
       " '8. lr_kb30': (0.7769, 0.4082, 0.3846),\n",
       " '9. lr_kb35': (0.8077, 0.5098, 0.5),\n",
       " '10. knn_upscaled': (0.7, 0.4658, 0.6538),\n",
       " '11. knn2_imbscaled': (0.7846, 0.3846, 0.3846),\n",
       " '12. knn3_kb25': (0.8231, 0.2581, 0.1538),\n",
       " '13. knn4_kb30': (0.8231, 0.1538, 0.1538),\n",
       " '14. dtc1_imbalanced': (0.7615, 0.3673, 0.3462)}"
      ]
     },
     "execution_count": 80,
     "metadata": {},
     "output_type": "execute_result"
    }
   ],
   "source": [
    "results['14. dtc1_imbalanced'] = (round(metrics.accuracy_score(y_test, y_pred_test),4), \n",
    "                             round(metrics.f1_score(y_test, y_pred_test),4), \n",
    "                             round(metrics.recall_score(y_test, y_pred_test),4))\n",
    "results"
   ]
  },
  {
   "cell_type": "code",
   "execution_count": 81,
   "metadata": {},
   "outputs": [
    {
     "data": {
      "image/png": "[encoded data removed]",
      "text/plain": [
       "<Figure size 432x288 with 2 Axes>"
      ]
     },
     "metadata": {
      "needs_background": "light"
     },
     "output_type": "display_data"
    }
   ],
   "source": [
    "from sklearn.metrics import confusion_matrix\n",
    "from sklearn.metrics import ConfusionMatrixDisplay\n",
    "\n",
    "cm = confusion_matrix(y_test, y_pred_test)\n",
    "\n",
    "cm_display = ConfusionMatrixDisplay(cm).plot()"
   ]
  },
  {
   "cell_type": "markdown",
   "metadata": {},
   "source": [
    "# Final Model"
   ]
  },
  {
   "cell_type": "code",
   "execution_count": 82,
   "metadata": {
    "scrolled": true
   },
   "outputs": [
    {
     "name": "stdout",
     "output_type": "stream",
     "text": [
      "Test Accuracy score:  0.823076923076923\n",
      "Train Accuracy score:  0.7670588235294118\n",
      "Test F1 score:  0.5964912280701755\n",
      "Train F1 score:  0.7620192307692307\n",
      "Test Recall score:  0.6538461538461539\n",
      "Train Recall score:  0.7458823529411764\n"
     ]
    }
   ],
   "source": [
    "kb10_lr = LogisticRegression(solver='liblinear')\n",
    "\n",
    "\n",
    "kb10_lr.fit(X_train_kb10, y_train_up)\n",
    "\n",
    "\n",
    "kb10_pred_test = kb10_lr.predict(X_test_kb10)\n",
    "kb10_pred_train = kb10_lr.predict(X_train_kb10)\n",
    "\n",
    "\n",
    "# checking accuracy\n",
    "print('Test Accuracy score: ', metrics.accuracy_score(y_test, kb10_pred_test))\n",
    "print('Train Accuracy score: ', metrics.accuracy_score(y_train_up, kb10_pred_train))\n",
    "\n",
    "# checking accuracy\n",
    "print('Test F1 score: ', metrics.f1_score(y_test, kb10_pred_test))\n",
    "print('Train F1 score: ', metrics.f1_score(y_train_up, kb10_pred_train))\n",
    "\n",
    "# checking accuracy\n",
    "print('Test Recall score: ', metrics.recall_score(y_test, kb10_pred_test))\n",
    "print('Train Recall score: ', metrics.recall_score(y_train_up, kb10_pred_train))"
   ]
  },
  {
   "cell_type": "code",
   "execution_count": 83,
   "metadata": {
    "scrolled": true
   },
   "outputs": [
    {
     "data": {
      "text/plain": [
       "[('sex', -1.6185647284625104),\n",
       " ('absences', 0.07930880623376613),\n",
       " ('G1', -0.10855446974877579),\n",
       " ('G2', 0.027141306713223807),\n",
       " ('G3', -0.011871497747962883),\n",
       " ('idle', 0.02859591678039857),\n",
       " ('grade_avg', -0.038914319279343135),\n",
       " ('goout_2', -0.6534590786045399),\n",
       " ('goout_3', -0.577010610291532),\n",
       " ('goout_5', 1.0476495918634177)]"
      ]
     },
     "execution_count": 83,
     "metadata": {},
     "output_type": "execute_result"
    }
   ],
   "source": [
    "features = list(X_train_kb10.columns)\n",
    "coeffs = (kb10_lr.coef_)[0].tolist()\n",
    "feat_coeff=list(zip(features, coeffs))\n",
    "feat_coeff"
   ]
  },
  {
   "cell_type": "markdown",
   "metadata": {},
   "source": [
    "**Interpretation of coefficients**\n",
    "\n",
    "1. **sex:** -1.62 is interpreted as the expected decrease in log odds for a female student being a heavy drinker. The odds ratio here is 1, which suggests that the chances of a female student being a heavy drinker is less likely to occur\n",
    "2. **absences:** 0.079 is interpreted as the expected change in log odds for a one- unit increase in absences\n",
    "3. **G1:** -0.19 is interpreted as the expected decrease in log odds of a heavy drinker\n",
    "4. **G2:** 0.027 is interpreted as the expected increease in log odds of a heavy drinker\n",
    "5. **G3:** -0.01 is interpreted as the expected decrease in log odds of heavy drinker\n",
    "6. **idle:** 0.028 is interpreted as the expected increease in log odds of a student being a heavy drinker\n",
    "7. **grade_avg:** -0.039 is interpreted as the expected decrease in log odds of a student being a heavy drinker\n",
    "8. **goout_2:** -0.65 is interpreted as the expected decrease in log odds of a student being a heavy drinker\n",
    "9. **goout_3:** -0.57 is interpreted as the expected decrease in log odds of a student being a heavy drinker\n",
    "10. **goout_5:** 1.05 is interpreted as the expected increase in log odds of a student being a heavy drinker"
   ]
  },
  {
   "cell_type": "code",
   "execution_count": 84,
   "metadata": {},
   "outputs": [
    {
     "data": {
      "image/png": "[encoded data removed]",
      "text/plain": [
       "<Figure size 432x288 with 2 Axes>"
      ]
     },
     "metadata": {
      "needs_background": "light"
     },
     "output_type": "display_data"
    }
   ],
   "source": [
    "from sklearn.metrics import confusion_matrix\n",
    "from sklearn.metrics import ConfusionMatrixDisplay\n",
    "\n",
    "cm = confusion_matrix(y_test, kb10_pred_test)\n",
    "\n",
    "cm_display = ConfusionMatrixDisplay(cm).plot()\n",
    "plt.savefig('images/Confusion_matrix.png')"
   ]
  },
  {
   "cell_type": "markdown",
   "metadata": {},
   "source": [
    "**Confusion Matrix Observation:**\n",
    "\n",
    "* True Positives : 19\n",
    "* True Negatives : 90\n",
    "* False Positives :14\n",
    "* False Negatives : 9\n",
    "\n",
    "The Recall Score of 0.6538 for this model tells us that the model predict an actual positive correctly 65% of the time."
   ]
  },
  {
   "cell_type": "code",
   "execution_count": 85,
   "metadata": {},
   "outputs": [
    {
     "data": {
      "text/plain": [
       "Index(['sex', 'age', 'schoolsup', 'paid', 'higher', 'absences', 'G1', 'G2',\n",
       "       'G3', 'academic_support', 'idle', 'grade_avg', 'delinquency', 'Medu_1',\n",
       "       'Medu_2', 'reason_2', 'guardian_3', 'traveltime_3', 'studytime_3',\n",
       "       'failures_1', 'freetime_3', 'freetime_4', 'goout_2', 'goout_3',\n",
       "       'goout_5'],\n",
       "      dtype='object')"
      ]
     },
     "execution_count": 85,
     "metadata": {},
     "output_type": "execute_result"
    }
   ],
   "source": [
    "# Features of the model with the next best Recall score\n",
    "X_train_kb25.columns"
   ]
  },
  {
   "cell_type": "code",
   "execution_count": null,
   "metadata": {},
   "outputs": [],
   "source": []
  },
  {
   "cell_type": "code",
   "execution_count": null,
   "metadata": {},
   "outputs": [],
   "source": []
  },
  {
   "cell_type": "code",
   "execution_count": null,
   "metadata": {},
   "outputs": [],
   "source": []
  }
 ],
 "metadata": {
  "kernelspec": {
   "display_name": "learn-env",
   "language": "python",
   "name": "learn-env"
  },
  "language_info": {
   "codemirror_mode": {
    "name": "ipython",
    "version": 3
   },
   "file_extension": ".py",
   "mimetype": "text/x-python",
   "name": "python",
   "nbconvert_exporter": "python",
   "pygments_lexer": "ipython3",
   "version": "3.6.9"
  }
 },
 "nbformat": 4,
 "nbformat_minor": 4
}
