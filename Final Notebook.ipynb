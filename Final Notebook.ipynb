{
 "cells": [
  {
   "cell_type": "markdown",
   "metadata": {},
   "source": [
    "# (Title)\n",
    "### --- Authors"
   ]
  },
  {
   "cell_type": "markdown",
   "metadata": {},
   "source": [
    "# Introduction- Overview\n",
    "\n",
    "--- Fill here"
   ]
  },
  {
   "cell_type": "markdown",
   "metadata": {},
   "source": [
    "# Business Problem\n",
    "\n",
    "--- Fill Here"
   ]
  },
  {
   "cell_type": "markdown",
   "metadata": {},
   "source": [
    "# Data Understanding\n",
    "\n",
    "--- Fill info here\n",
    "* Where did you get the data from?\n",
    "http://www3.dsi.uminho.pt/pcortez/student.pdf\n",
    "https://archive.ics.uci.edu/ml/datasets/student%2Bperformance#\n",
    "* A summary of the variables and their data"
   ]
  },
  {
   "cell_type": "code",
   "execution_count": 1,
   "metadata": {},
   "outputs": [],
   "source": [
    "# Importing necessary libraries\n",
    "import pandas as pd\n",
    "import numpy as np\n",
    "import matplotlib.pyplot as plt\n",
    "%matplotlib inline\n",
    "import seaborn as sns\n",
    "\n",
    "from sklearn.model_selection import train_test_split\n",
    "from sklearn.feature_selection import SelectKBest, f_classif\n",
    "from sklearn.preprocessing import MinMaxScaler\n",
    "from sklearn.neighbors import KNeighborsClassifier\n",
    "from sklearn import metrics\n",
    "from sklearn.linear_model import LogisticRegression\n",
    "from sklearn.model_selection import GridSearchCV\n",
    "from sklearn.tree import DecisionTreeClassifier "
   ]
  },
  {
   "cell_type": "code",
   "execution_count": 2,
   "metadata": {},
   "outputs": [],
   "source": [
    "# Loading dataset\n",
    "df = pd.read_csv('student-por.csv')"
   ]
  },
  {
   "cell_type": "markdown",
   "metadata": {},
   "source": [
    "## Data Preparation- data cleaning and transformations"
   ]
  },
  {
   "cell_type": "code",
   "execution_count": 3,
   "metadata": {},
   "outputs": [
    {
     "name": "stdout",
     "output_type": "stream",
     "text": [
      "Rows and Columns : (649, 33) \n",
      "\n",
      "INFO:\n",
      "<class 'pandas.core.frame.DataFrame'>\n",
      "RangeIndex: 649 entries, 0 to 648\n",
      "Data columns (total 33 columns):\n",
      "school        649 non-null object\n",
      "sex           649 non-null object\n",
      "age           649 non-null int64\n",
      "address       649 non-null object\n",
      "famsize       649 non-null object\n",
      "Pstatus       649 non-null object\n",
      "Medu          649 non-null int64\n",
      "Fedu          649 non-null int64\n",
      "Mjob          649 non-null object\n",
      "Fjob          649 non-null object\n",
      "reason        649 non-null object\n",
      "guardian      649 non-null object\n",
      "traveltime    649 non-null int64\n",
      "studytime     649 non-null int64\n",
      "failures      649 non-null int64\n",
      "schoolsup     649 non-null object\n",
      "famsup        649 non-null object\n",
      "paid          649 non-null object\n",
      "activities    649 non-null object\n",
      "nursery       649 non-null object\n",
      "higher        649 non-null object\n",
      "internet      649 non-null object\n",
      "romantic      649 non-null object\n",
      "famrel        649 non-null int64\n",
      "freetime      649 non-null int64\n",
      "goout         649 non-null int64\n",
      "Dalc          649 non-null int64\n",
      "Walc          649 non-null int64\n",
      "health        649 non-null int64\n",
      "absences      649 non-null int64\n",
      "G1            649 non-null int64\n",
      "G2            649 non-null int64\n",
      "G3            649 non-null int64\n",
      "dtypes: int64(16), object(17)\n",
      "memory usage: 167.4+ KB\n",
      "None \n",
      "\n",
      "Unique Values : \n",
      " school         2\n",
      "sex            2\n",
      "age            8\n",
      "address        2\n",
      "famsize        2\n",
      "Pstatus        2\n",
      "Medu           5\n",
      "Fedu           5\n",
      "Mjob           5\n",
      "Fjob           5\n",
      "reason         4\n",
      "guardian       3\n",
      "traveltime     4\n",
      "studytime      4\n",
      "failures       4\n",
      "schoolsup      2\n",
      "famsup         2\n",
      "paid           2\n",
      "activities     2\n",
      "nursery        2\n",
      "higher         2\n",
      "internet       2\n",
      "romantic       2\n",
      "famrel         5\n",
      "freetime       5\n",
      "goout          5\n",
      "Dalc           5\n",
      "Walc           5\n",
      "health         5\n",
      "absences      24\n",
      "G1            17\n",
      "G2            16\n",
      "G3            17\n",
      "dtype: int64 \n",
      "\n"
     ]
    }
   ],
   "source": [
    "#Rows tell you the number of obs and columns tell you the number of features\n",
    "print('Rows and Columns :', df.shape,'\\n' ) \n",
    "\n",
    "#Running info on the dataset to check on the any visible missing values and datatypes\n",
    "print('INFO:')\n",
    "print(df.info(), '\\n')\n",
    "\n",
    "# Checking for the number of unique values in each column in dataset\n",
    "print('Unique Values :','\\n', df.nunique(), '\\n')"
   ]
  },
  {
   "cell_type": "code",
   "execution_count": 4,
   "metadata": {},
   "outputs": [],
   "source": [
    "# Converting all binary non-numeric variables to numeric variables to allow for easy data processing\n",
    "\n",
    "df.loc[df['school']=='GP', 'school'] = 1\n",
    "df.loc[df['school']=='MS', 'school'] = 0\n",
    "\n",
    "df.loc[df['sex']=='F', 'sex'] = 1\n",
    "df.loc[df['sex']=='M', 'sex'] = 0\n",
    "\n",
    "df.loc[df['address']=='R', 'address'] = 1\n",
    "df.loc[df['address']=='U', 'address'] = 0\n",
    "\n",
    "df.loc[df['famsize']=='GT3', 'famsize'] = 1\n",
    "df.loc[df['famsize']=='LE3', 'famsize'] = 0\n",
    "\n",
    "df.loc[df['Pstatus']=='T', 'Pstatus'] = 1\n",
    "df.loc[df['Pstatus']=='A', 'Pstatus'] = 0\n",
    "\n",
    "df.loc[df['schoolsup']=='yes', 'schoolsup'] = 1\n",
    "df.loc[df['schoolsup']=='no', 'schoolsup'] = 0\n",
    "\n",
    "df.loc[df['famsup']=='yes', 'famsup'] = 1\n",
    "df.loc[df['famsup']=='no', 'famsup'] = 0\n",
    "\n",
    "df.loc[df['paid']=='yes', 'paid'] = 1\n",
    "df.loc[df['paid']=='no', 'paid'] = 0\n",
    "\n",
    "df.loc[df['activities']=='yes', 'activities'] = 1\n",
    "df.loc[df['activities']=='no', 'activities'] = 0\n",
    "\n",
    "df.loc[df['nursery']=='yes', 'nursery'] = 1\n",
    "df.loc[df['nursery']=='no', 'nursery'] = 0\n",
    "\n",
    "df.loc[df['higher']=='yes', 'higher'] = 1\n",
    "df.loc[df['higher']=='no', 'higher'] = 0\n",
    "\n",
    "df.loc[df['internet']=='yes', 'internet'] = 1\n",
    "df.loc[df['internet']=='no', 'internet'] = 0\n",
    "\n",
    "df.loc[df['romantic']=='yes', 'romantic'] = 1\n",
    "df.loc[df['romantic']=='no', 'romantic'] = 0"
   ]
  },
  {
   "cell_type": "code",
   "execution_count": 5,
   "metadata": {},
   "outputs": [],
   "source": [
    "# Converting all nominal non-numeric variables to numeric variables to allow for easy data processing\n",
    "\n",
    "conditions=[df['Mjob'] == 'at_home',\n",
    "          df['Mjob'] == 'services',\n",
    "          df['Mjob'] == 'teacher',\n",
    "          df['Mjob'] == 'health',\n",
    "           df['Mjob']== 'other']\n",
    "choices = [1,2,3,4,5]\n",
    "df['Mjob'] = np.select(conditions, choices)\n",
    "\n",
    "conditions=[df['Fjob'] == 'at_home',\n",
    "          df['Fjob'] == 'services',\n",
    "          df['Fjob'] == 'teacher',\n",
    "          df['Fjob'] == 'health',\n",
    "           df['Fjob']== 'other']\n",
    "choices = [1,2,3,4,5]\n",
    "df['Fjob'] = np.select(conditions, choices)\n",
    "\n",
    "conditions=[df['reason'] == 'home',\n",
    "          df['reason'] == 'reputation',\n",
    "          df['reason'] == 'course',\n",
    "           df['reason']== 'other']\n",
    "choices = [1,2,3,4]\n",
    "df['reason'] = np.select(conditions, choices)\n",
    "\n",
    "conditions=[df['guardian'] == 'father',\n",
    "          df['guardian'] == 'mother',\n",
    "          df['guardian'] == 'other']\n",
    "choices = [1,2,3]\n",
    "df['guardian'] = np.select(conditions, choices)"
   ]
  },
  {
   "cell_type": "code",
   "execution_count": 6,
   "metadata": {},
   "outputs": [
    {
     "data": {
      "text/plain": [
       "school        int64\n",
       "sex           int64\n",
       "age           int64\n",
       "address       int64\n",
       "famsize       int64\n",
       "Pstatus       int64\n",
       "Medu          int64\n",
       "Fedu          int64\n",
       "Mjob          int64\n",
       "Fjob          int64\n",
       "reason        int64\n",
       "guardian      int64\n",
       "traveltime    int64\n",
       "studytime     int64\n",
       "failures      int64\n",
       "schoolsup     int64\n",
       "famsup        int64\n",
       "paid          int64\n",
       "activities    int64\n",
       "nursery       int64\n",
       "higher        int64\n",
       "internet      int64\n",
       "romantic      int64\n",
       "famrel        int64\n",
       "freetime      int64\n",
       "goout         int64\n",
       "Dalc          int64\n",
       "Walc          int64\n",
       "health        int64\n",
       "absences      int64\n",
       "G1            int64\n",
       "G2            int64\n",
       "G3            int64\n",
       "dtype: object"
      ]
     },
     "execution_count": 6,
     "metadata": {},
     "output_type": "execute_result"
    }
   ],
   "source": [
    "df.dtypes"
   ]
  },
  {
   "cell_type": "code",
   "execution_count": 7,
   "metadata": {},
   "outputs": [
    {
     "data": {
      "text/plain": [
       "2     241\n",
       "3     116\n",
       "4      99\n",
       "5      73\n",
       "6      50\n",
       "7      32\n",
       "8      17\n",
       "10     15\n",
       "9       6\n",
       "Name: week_alc, dtype: int64"
      ]
     },
     "execution_count": 7,
     "metadata": {},
     "output_type": "execute_result"
    }
   ],
   "source": [
    "df['week_alc']= df['Dalc']+df['Walc']\n",
    "\n",
    "df['week_alc'].value_counts()"
   ]
  },
  {
   "cell_type": "code",
   "execution_count": 8,
   "metadata": {},
   "outputs": [
    {
     "name": "stdout",
     "output_type": "stream",
     "text": [
      "0    529\n",
      "1    120\n",
      "Name: alc, dtype: int64\n",
      "0    0.8151\n",
      "1    0.1849\n",
      "Name: alc, dtype: float64\n"
     ]
    },
    {
     "data": {
      "text/plain": [
       "<seaborn.axisgrid.FacetGrid at 0x7fe89d5af400>"
      ]
     },
     "execution_count": 8,
     "metadata": {},
     "output_type": "execute_result"
    },
    {
     "data": {
      "image/png": "[encoded data removed]",
      "text/plain": [
       "<Figure size 360x360 with 1 Axes>"
      ]
     },
     "metadata": {
      "needs_background": "light"
     },
     "output_type": "display_data"
    }
   ],
   "source": [
    "df['alc'] = [0 if x <= 5 else 1 for x in df['week_alc']]\n",
    "        \n",
    "print(df['alc'].value_counts())\n",
    "print(df['alc'].value_counts(normalize = True))\n",
    "\n",
    "sns.catplot(x=\"alc\", kind=\"count\", palette=\"ch:.25\", data=df)"
   ]
  },
  {
   "cell_type": "code",
   "execution_count": 9,
   "metadata": {},
   "outputs": [
    {
     "data": {
      "text/plain": [
       "school        False\n",
       "sex           False\n",
       "age           False\n",
       "address       False\n",
       "famsize       False\n",
       "Pstatus       False\n",
       "Medu          False\n",
       "Fedu          False\n",
       "Mjob          False\n",
       "Fjob          False\n",
       "reason        False\n",
       "guardian      False\n",
       "traveltime    False\n",
       "studytime     False\n",
       "failures      False\n",
       "schoolsup     False\n",
       "famsup        False\n",
       "paid          False\n",
       "activities    False\n",
       "nursery       False\n",
       "higher        False\n",
       "internet      False\n",
       "romantic      False\n",
       "famrel        False\n",
       "freetime      False\n",
       "goout         False\n",
       "Dalc          False\n",
       "Walc          False\n",
       "health        False\n",
       "absences      False\n",
       "G1            False\n",
       "G2            False\n",
       "G3            False\n",
       "week_alc      False\n",
       "alc           False\n",
       "dtype: bool"
      ]
     },
     "execution_count": 9,
     "metadata": {},
     "output_type": "execute_result"
    }
   ],
   "source": [
    "# checking for Nan values\n",
    "df.isna().any()"
   ]
  },
  {
   "cell_type": "code",
   "execution_count": 10,
   "metadata": {},
   "outputs": [
    {
     "data": {
      "text/plain": [
       "279    22\n",
       "Name: age, dtype: int64"
      ]
     },
     "execution_count": 10,
     "metadata": {},
     "output_type": "execute_result"
    }
   ],
   "source": [
    "df[df['age']== 22]['age']"
   ]
  },
  {
   "cell_type": "code",
   "execution_count": 11,
   "metadata": {},
   "outputs": [
    {
     "data": {
      "text/plain": [
       "Series([], Name: age, dtype: int64)"
      ]
     },
     "execution_count": 11,
     "metadata": {},
     "output_type": "execute_result"
    }
   ],
   "source": [
    "df.drop(labels = 279, inplace=True) #dropping age outlier\n",
    "df[df['age']== 22]['age']# checking to see if the drop was successful"
   ]
  },
  {
   "cell_type": "markdown",
   "metadata": {},
   "source": [
    "## Exploratory Data Analysis === Check here for EDA"
   ]
  },
  {
   "cell_type": "markdown",
   "metadata": {},
   "source": [
    "# Feature Engineering"
   ]
  },
  {
   "cell_type": "code",
   "execution_count": 12,
   "metadata": {},
   "outputs": [],
   "source": [
    "# Split data to be used in the models\n",
    "# Create matrix of features\n",
    "X = df.drop('alc', axis = 1) # grabs everything else but 'default column'\n",
    "\n",
    "\n",
    "# Create target variable\n",
    "y = df['alc'] # y is the column we're trying to predict"
   ]
  },
  {
   "cell_type": "code",
   "execution_count": null,
   "metadata": {},
   "outputs": [],
   "source": []
  },
  {
   "cell_type": "markdown",
   "metadata": {},
   "source": [
    "Feature quantifying family stability "
   ]
  },
  {
   "cell_type": "code",
   "execution_count": null,
   "metadata": {},
   "outputs": [],
   "source": []
  },
  {
   "cell_type": "code",
   "execution_count": 13,
   "metadata": {},
   "outputs": [],
   "source": [
    "X['stability'] = df.Pstatus*df.famrel+(df.Fedu + df.Medu)"
   ]
  },
  {
   "cell_type": "code",
   "execution_count": 14,
   "metadata": {},
   "outputs": [
    {
     "name": "stdout",
     "output_type": "stream",
     "text": [
      "Descriptive Statistics : \n",
      " count    648.000000\n",
      "mean       8.282407\n",
      "std        2.525701\n",
      "min        1.000000\n",
      "25%        7.000000\n",
      "50%        8.000000\n",
      "75%       10.000000\n",
      "max       13.000000\n",
      "Name: stability, dtype: float64\n",
      "Correlation with weekly alcohol consumption : \n",
      " 0.006343667455843537\n",
      "Correlation with target alc consumption : \n",
      " -0.01359182527852159\n",
      "percentage of data distrib : \n",
      " 8     0.155864\n",
      "7     0.141975\n",
      "10    0.131173\n",
      "6     0.118827\n",
      "9     0.114198\n",
      "11    0.087963\n",
      "12    0.084877\n",
      "5     0.058642\n",
      "13    0.037037\n",
      "4     0.033951\n",
      "3     0.024691\n",
      "2     0.007716\n",
      "1     0.003086\n",
      "Name: stability, dtype: float64\n"
     ]
    },
    {
     "data": {
      "text/plain": [
       "<matplotlib.axes._subplots.AxesSubplot at 0x7fe89d8f9198>"
      ]
     },
     "execution_count": 14,
     "metadata": {},
     "output_type": "execute_result"
    },
    {
     "data": {
      "image/png": "[encoded data removed]",
      "text/plain": [
       "<Figure size 720x432 with 2 Axes>"
      ]
     },
     "metadata": {
      "needs_background": "light"
     },
     "output_type": "display_data"
    }
   ],
   "source": [
    "print(\"Descriptive Statistics :\", '\\n', X['stability'].describe())\n",
    "print(\"Correlation with weekly alcohol consumption :\", '\\n', X['stability'].corr(df['week_alc']))\n",
    "print(\"Correlation with target alc consumption :\", '\\n', X['stability'].corr(df['alc']))\n",
    "# print(\"Number of Rural Students (1) :\", X['address'].sum())\n",
    "# print(\"Number of Urban Students (0) :\", X['address'].count() - X['address'].sum())\n",
    "print(\"percentage of data distrib :\", '\\n', X.stability.value_counts(normalize=True))\n",
    "\n",
    "fig, ax = plt.subplots(1, 2, figsize= (10,6))\n",
    "sns.despine(right=True)\n",
    "sns.countplot(x=\"stability\", data=X,  ax = ax[0])\n",
    "sns.barplot(x=\"stability\", y = y, data=X,  ax = ax[1])"
   ]
  },
  {
   "cell_type": "markdown",
   "metadata": {},
   "source": [
    "feature quantifying academic support network"
   ]
  },
  {
   "cell_type": "code",
   "execution_count": 15,
   "metadata": {},
   "outputs": [],
   "source": [
    "X['academic_support'] = df.famsup + df.schoolsup + df.paid + df.Medu + df.Fedu + df.internet +df.higher\n"
   ]
  },
  {
   "cell_type": "code",
   "execution_count": 16,
   "metadata": {},
   "outputs": [
    {
     "name": "stdout",
     "output_type": "stream",
     "text": [
      "Descriptive Statistics : \n",
      " count    648.000000\n",
      "mean       7.263889\n",
      "std        2.452603\n",
      "min        2.000000\n",
      "25%        5.000000\n",
      "50%        7.000000\n",
      "75%        9.000000\n",
      "max       12.000000\n",
      "Name: academic_support, dtype: float64\n",
      "Correlation with weekly alcohol consumption : \n",
      " -0.01121224237019738\n",
      "Correlation with target alc consumption : \n",
      " -0.0396867933456733\n",
      "percentage of data distrib : \n",
      " 7     0.140432\n",
      "5     0.137346\n",
      "6     0.118827\n",
      "10    0.115741\n",
      "9     0.112654\n",
      "4     0.112654\n",
      "8     0.109568\n",
      "11    0.089506\n",
      "12    0.024691\n",
      "3     0.024691\n",
      "2     0.013889\n",
      "Name: academic_support, dtype: float64\n"
     ]
    },
    {
     "data": {
      "text/plain": [
       "<matplotlib.axes._subplots.AxesSubplot at 0x7fe89e0e5eb8>"
      ]
     },
     "execution_count": 16,
     "metadata": {},
     "output_type": "execute_result"
    },
    {
     "data": {
      "image/png": "[encoded data removed]",
      "text/plain": [
       "<Figure size 720x432 with 2 Axes>"
      ]
     },
     "metadata": {
      "needs_background": "light"
     },
     "output_type": "display_data"
    }
   ],
   "source": [
    "print(\"Descriptive Statistics :\", '\\n', X['academic_support'].describe())\n",
    "print(\"Correlation with weekly alcohol consumption :\", '\\n', X['academic_support'].corr(df['week_alc']))\n",
    "print(\"Correlation with target alc consumption :\", '\\n', X['academic_support'].corr(df['alc']))\n",
    "print(\"percentage of data distrib :\", '\\n', X.academic_support.value_counts(normalize=True))\n",
    "\n",
    "fig, ax = plt.subplots(1, 2, figsize= (10,6))\n",
    "sns.despine(right=True)\n",
    "sns.countplot(x=\"academic_support\", data=X,  ax = ax[0])\n",
    "sns.barplot(x=\"academic_support\", y = y, data=X,  ax = ax[1])"
   ]
  },
  {
   "cell_type": "markdown",
   "metadata": {},
   "source": [
    "Average Grade"
   ]
  },
  {
   "cell_type": "code",
   "execution_count": 17,
   "metadata": {},
   "outputs": [],
   "source": [
    "X['grade_avg'] = round((df.G1 + df.G2 + df.G3)/3, 2)"
   ]
  },
  {
   "cell_type": "code",
   "execution_count": 18,
   "metadata": {},
   "outputs": [
    {
     "name": "stdout",
     "output_type": "stream",
     "text": [
      "Descriptive Statistics : \n",
      " count    648.000000\n",
      "mean      11.632762\n",
      "std        2.828787\n",
      "min        1.330000\n",
      "25%       10.000000\n",
      "50%       11.670000\n",
      "75%       13.330000\n",
      "max       18.670000\n",
      "Name: grade_avg, dtype: float64\n",
      "Correlation with weekly alcohol consumption : \n",
      " -0.2011351931744279\n",
      "Correlation with target alc consumption : \n",
      " -0.20625996193267518\n"
     ]
    }
   ],
   "source": [
    "print(\"Descriptive Statistics :\", '\\n', X['grade_avg'].describe())\n",
    "print(\"Correlation with weekly alcohol consumption :\", '\\n', X['grade_avg'].corr(df['week_alc']))\n",
    "print(\"Correlation with target alc consumption :\", '\\n', X['grade_avg'].corr(df['alc']))\n",
    "\n",
    "# fig, ax = plt.subplots(1, 2, figsize= (10,6))\n",
    "# sns.despine(right=True)\n",
    "# sns.distplot(x=\"grade_avg\", data=df,  ax = ax[0])\n",
    "# sns.barplot(x=\"grade_avg\", y = 'alc', data=df,  ax = ax[1])"
   ]
  },
  {
   "cell_type": "code",
   "execution_count": 19,
   "metadata": {},
   "outputs": [
    {
     "name": "stdout",
     "output_type": "stream",
     "text": [
      "(648, 37)\n",
      "Index(['school', 'sex', 'age', 'address', 'famsize', 'Pstatus', 'Medu', 'Fedu',\n",
      "       'Mjob', 'Fjob', 'reason', 'guardian', 'traveltime', 'studytime',\n",
      "       'failures', 'schoolsup', 'famsup', 'paid', 'activities', 'nursery',\n",
      "       'higher', 'internet', 'romantic', 'famrel', 'freetime', 'goout', 'Dalc',\n",
      "       'Walc', 'health', 'absences', 'G1', 'G2', 'G3', 'week_alc', 'stability',\n",
      "       'academic_support', 'grade_avg'],\n",
      "      dtype='object')\n"
     ]
    }
   ],
   "source": [
    "print(X.shape)\n",
    "\n",
    "print(X.columns)"
   ]
  },
  {
   "cell_type": "code",
   "execution_count": 20,
   "metadata": {},
   "outputs": [],
   "source": [
    "dummy1 = pd.get_dummies(df['Medu'],drop_first= True)\n",
    "dummy2 = pd.get_dummies(df['Fedu'],drop_first= True)\n",
    "dummy3 = pd.get_dummies(df['Mjob'],drop_first= True)\n",
    "dummy4 = pd.get_dummies(df['Fjob'],drop_first= True)\n",
    "dummy5 = pd.get_dummies(df['reason'],drop_first= True)\n",
    "dummy6 = pd.get_dummies(df['guardian'],drop_first= True)\n",
    "dummy7 = pd.get_dummies(df['traveltime'],drop_first= True)\n",
    "dummy8 = pd.get_dummies(df['studytime'],drop_first= True)\n",
    "dummy9 = pd.get_dummies(df['failures'],drop_first= True)\n",
    "dummy10 = pd.get_dummies(df['famrel'],drop_first= True)\n",
    "dummy11 = pd.get_dummies(df['freetime'],drop_first= True)\n",
    "dummy12 = pd.get_dummies(df['goout'],drop_first= True)\n",
    "dummy13 = pd.get_dummies(df['health'],drop_first= True)"
   ]
  },
  {
   "cell_type": "code",
   "execution_count": 21,
   "metadata": {},
   "outputs": [],
   "source": [
    "new_feats = ['grade_avg', 'academic_support', 'stability']\n",
    "dummy_feats = ['Medu', 'Fedu','Mjob', 'Fjob', 'reason', 'guardian', 'traveltime', 'studytime',\n",
    "       'failures','famrel', 'freetime', 'goout','health']\n",
    "\n",
    "X.drop(columns = dummy_feats, axis = 1, inplace= True )\n",
    "X.drop(columns = ['week_alc'], axis = 1, inplace = True)"
   ]
  },
  {
   "cell_type": "code",
   "execution_count": 22,
   "metadata": {},
   "outputs": [],
   "source": [
    "df_list = [X, dummy1, dummy2, dummy3, dummy4, dummy5, dummy6, dummy7, \n",
    "           dummy8, dummy9, dummy10, dummy11, dummy12, dummy13]\n"
   ]
  },
  {
   "cell_type": "code",
   "execution_count": 23,
   "metadata": {},
   "outputs": [
    {
     "name": "stdout",
     "output_type": "stream",
     "text": [
      "(648, 23)\n",
      "(648, 4)\n",
      "(648, 4)\n",
      "(648, 4)\n",
      "(648, 4)\n",
      "(648, 3)\n",
      "(648, 2)\n",
      "(648, 3)\n",
      "(648, 3)\n",
      "(648, 3)\n",
      "(648, 4)\n",
      "(648, 4)\n",
      "(648, 4)\n",
      "(648, 4)\n"
     ]
    }
   ],
   "source": [
    "for df in df_list:\n",
    "    print(df.shape)"
   ]
  },
  {
   "cell_type": "code",
   "execution_count": 24,
   "metadata": {},
   "outputs": [],
   "source": [
    "x = pd.concat(df_list, axis = 1)"
   ]
  },
  {
   "cell_type": "code",
   "execution_count": 25,
   "metadata": {},
   "outputs": [
    {
     "name": "stdout",
     "output_type": "stream",
     "text": [
      "(648, 69)\n",
      "(648,)\n"
     ]
    }
   ],
   "source": [
    "print(x.shape)\n",
    "print(y.shape)"
   ]
  },
  {
   "cell_type": "code",
   "execution_count": null,
   "metadata": {},
   "outputs": [],
   "source": []
  },
  {
   "cell_type": "code",
   "execution_count": null,
   "metadata": {},
   "outputs": [],
   "source": []
  },
  {
   "cell_type": "code",
   "execution_count": null,
   "metadata": {},
   "outputs": [],
   "source": []
  },
  {
   "cell_type": "code",
   "execution_count": null,
   "metadata": {},
   "outputs": [],
   "source": []
  },
  {
   "cell_type": "markdown",
   "metadata": {},
   "source": [
    "### Train Test Split"
   ]
  },
  {
   "cell_type": "code",
   "execution_count": 26,
   "metadata": {},
   "outputs": [
    {
     "name": "stdout",
     "output_type": "stream",
     "text": [
      "Training set - Features:  (518, 69) Target:  (518,)\n",
      "Test set - Features:  (130, 69) Target:  (130,)\n",
      "0    0.820463\n",
      "1    0.179537\n",
      "Name: alc, dtype: float64\n",
      "0    0.8\n",
      "1    0.2\n",
      "Name: alc, dtype: float64\n"
     ]
    }
   ],
   "source": [
    "#performing train-test split on main dataframe\n",
    "X_train, X_test, y_train, y_test = train_test_split(x, y, random_state=150, test_size=0.2)\n",
    "\n",
    "#checking the shape of the training set and test set\n",
    "print(\"Training set - Features: \", X_train.shape, \"Target: \", y_train.shape,)\n",
    "print(\"Test set - Features: \", X_test.shape, \"Target: \",y_test.shape,)\n",
    "print(y_train.value_counts(normalize = True))\n",
    "print(y_test.value_counts(normalize = True))"
   ]
  },
  {
   "cell_type": "markdown",
   "metadata": {},
   "source": [
    "### Handling Class Imbalance - with Oversampling minority class"
   ]
  },
  {
   "cell_type": "markdown",
   "metadata": {},
   "source": [
    "**Running a model without any class imbalance resolution**"
   ]
  },
  {
   "cell_type": "markdown",
   "metadata": {},
   "source": [
    "### Upsampling Minority"
   ]
  },
  {
   "cell_type": "code",
   "execution_count": 27,
   "metadata": {},
   "outputs": [],
   "source": [
    "# concatenate our training data back together\n",
    "training  = pd.concat([X_train, y_train], axis=1)"
   ]
  },
  {
   "cell_type": "code",
   "execution_count": 28,
   "metadata": {},
   "outputs": [
    {
     "name": "stdout",
     "output_type": "stream",
     "text": [
      "light drinker count: 425\n",
      "heavy drinker count: 93\n"
     ]
    }
   ],
   "source": [
    "# separate minority and majority classes\n",
    "light_drinker = training[training.alc==0]\n",
    "heavy_drinker = training[training.alc==1]\n",
    "\n",
    "# Get a class count to understand the class imbalance.\n",
    "print('light drinker count: '+ str(len(light_drinker)))\n",
    "print('heavy drinker count: '+ str(len(heavy_drinker)))"
   ]
  },
  {
   "cell_type": "code",
   "execution_count": 29,
   "metadata": {},
   "outputs": [],
   "source": [
    "from sklearn.utils import resample"
   ]
  },
  {
   "cell_type": "code",
   "execution_count": 30,
   "metadata": {},
   "outputs": [
    {
     "data": {
      "text/plain": [
       "(425, 70)"
      ]
     },
     "execution_count": 30,
     "metadata": {},
     "output_type": "execute_result"
    }
   ],
   "source": [
    "# upsample minority\n",
    "heavy_drinker_upsampled = resample(heavy_drinker,\n",
    "                          replace=True, # sample with replacement\n",
    "                          n_samples=len(light_drinker), # match number in majority class\n",
    "                          random_state=23) # reproducible results\n",
    "heavy_drinker_upsampled.shape"
   ]
  },
  {
   "cell_type": "code",
   "execution_count": 31,
   "metadata": {},
   "outputs": [
    {
     "data": {
      "text/plain": [
       "1    425\n",
       "0    425\n",
       "Name: alc, dtype: int64"
      ]
     },
     "execution_count": 31,
     "metadata": {},
     "output_type": "execute_result"
    }
   ],
   "source": [
    "# combine majority and upsampled minority\n",
    "upsampled = pd.concat([light_drinker, heavy_drinker_upsampled])\n",
    "\n",
    "# check new class counts\n",
    "upsampled.alc.value_counts()"
   ]
  },
  {
   "cell_type": "code",
   "execution_count": 32,
   "metadata": {},
   "outputs": [],
   "source": [
    "# trying logistic regression again with the balanced dataset\n",
    "y_train_u = upsampled.alc\n",
    "X_train_u = upsampled.drop('alc', axis=1)"
   ]
  },
  {
   "cell_type": "markdown",
   "metadata": {},
   "source": [
    "### SMOTE- Oversampling"
   ]
  },
  {
   "cell_type": "code",
   "execution_count": 33,
   "metadata": {},
   "outputs": [],
   "source": [
    "from imblearn.over_sampling import SMOTE"
   ]
  },
  {
   "cell_type": "code",
   "execution_count": 34,
   "metadata": {},
   "outputs": [],
   "source": [
    "# sm = SMOTE( random_state=150)\n",
    "# X_train, y_train = sm.fit_sample(X_train, y_train)"
   ]
  },
  {
   "cell_type": "markdown",
   "metadata": {},
   "source": [
    "# Feature Selection"
   ]
  },
  {
   "cell_type": "code",
   "execution_count": 35,
   "metadata": {},
   "outputs": [],
   "source": [
    "from statsmodels.stats.outliers_influence import variance_inflation_factor"
   ]
  },
  {
   "cell_type": "code",
   "execution_count": 36,
   "metadata": {},
   "outputs": [
    {
     "name": "stderr",
     "output_type": "stream",
     "text": [
      "/Users/lhams/opt/anaconda3/envs/learn-env/lib/python3.6/site-packages/statsmodels/stats/outliers_influence.py:193: RuntimeWarning: divide by zero encountered in double_scalars\n",
      "  vif = 1. / (1. - r_squared_i)\n"
     ]
    },
    {
     "data": {
      "text/html": [
       "<div>\n",
       "<style scoped>\n",
       "    .dataframe tbody tr th:only-of-type {\n",
       "        vertical-align: middle;\n",
       "    }\n",
       "\n",
       "    .dataframe tbody tr th {\n",
       "        vertical-align: top;\n",
       "    }\n",
       "\n",
       "    .dataframe thead th {\n",
       "        text-align: right;\n",
       "    }\n",
       "</style>\n",
       "<table border=\"1\" class=\"dataframe\">\n",
       "  <thead>\n",
       "    <tr style=\"text-align: right;\">\n",
       "      <th></th>\n",
       "      <th>VIF Factor</th>\n",
       "      <th>features</th>\n",
       "    </tr>\n",
       "  </thead>\n",
       "  <tbody>\n",
       "    <tr>\n",
       "      <th>0</th>\n",
       "      <td>4.9</td>\n",
       "      <td>school</td>\n",
       "    </tr>\n",
       "    <tr>\n",
       "      <th>1</th>\n",
       "      <td>3.6</td>\n",
       "      <td>sex</td>\n",
       "    </tr>\n",
       "    <tr>\n",
       "      <th>2</th>\n",
       "      <td>176.3</td>\n",
       "      <td>age</td>\n",
       "    </tr>\n",
       "    <tr>\n",
       "      <th>3</th>\n",
       "      <td>2.1</td>\n",
       "      <td>address</td>\n",
       "    </tr>\n",
       "    <tr>\n",
       "      <th>4</th>\n",
       "      <td>4.3</td>\n",
       "      <td>famsize</td>\n",
       "    </tr>\n",
       "    <tr>\n",
       "      <th>5</th>\n",
       "      <td>130.1</td>\n",
       "      <td>Pstatus</td>\n",
       "    </tr>\n",
       "    <tr>\n",
       "      <th>6</th>\n",
       "      <td>inf</td>\n",
       "      <td>schoolsup</td>\n",
       "    </tr>\n",
       "    <tr>\n",
       "      <th>7</th>\n",
       "      <td>inf</td>\n",
       "      <td>famsup</td>\n",
       "    </tr>\n",
       "    <tr>\n",
       "      <th>8</th>\n",
       "      <td>inf</td>\n",
       "      <td>paid</td>\n",
       "    </tr>\n",
       "    <tr>\n",
       "      <th>9</th>\n",
       "      <td>2.5</td>\n",
       "      <td>activities</td>\n",
       "    </tr>\n",
       "    <tr>\n",
       "      <th>10</th>\n",
       "      <td>6.3</td>\n",
       "      <td>nursery</td>\n",
       "    </tr>\n",
       "    <tr>\n",
       "      <th>11</th>\n",
       "      <td>inf</td>\n",
       "      <td>higher</td>\n",
       "    </tr>\n",
       "    <tr>\n",
       "      <th>12</th>\n",
       "      <td>inf</td>\n",
       "      <td>internet</td>\n",
       "    </tr>\n",
       "    <tr>\n",
       "      <th>13</th>\n",
       "      <td>2.0</td>\n",
       "      <td>romantic</td>\n",
       "    </tr>\n",
       "    <tr>\n",
       "      <th>14</th>\n",
       "      <td>7.0</td>\n",
       "      <td>Dalc</td>\n",
       "    </tr>\n",
       "    <tr>\n",
       "      <th>15</th>\n",
       "      <td>9.7</td>\n",
       "      <td>Walc</td>\n",
       "    </tr>\n",
       "    <tr>\n",
       "      <th>16</th>\n",
       "      <td>2.2</td>\n",
       "      <td>absences</td>\n",
       "    </tr>\n",
       "    <tr>\n",
       "      <th>17</th>\n",
       "      <td>2300609.2</td>\n",
       "      <td>G1</td>\n",
       "    </tr>\n",
       "    <tr>\n",
       "      <th>18</th>\n",
       "      <td>2391236.7</td>\n",
       "      <td>G2</td>\n",
       "    </tr>\n",
       "    <tr>\n",
       "      <th>19</th>\n",
       "      <td>2550886.2</td>\n",
       "      <td>G3</td>\n",
       "    </tr>\n",
       "    <tr>\n",
       "      <th>20</th>\n",
       "      <td>688.4</td>\n",
       "      <td>stability</td>\n",
       "    </tr>\n",
       "    <tr>\n",
       "      <th>21</th>\n",
       "      <td>inf</td>\n",
       "      <td>academic_support</td>\n",
       "    </tr>\n",
       "    <tr>\n",
       "      <th>22</th>\n",
       "      <td>21605148.5</td>\n",
       "      <td>grade_avg</td>\n",
       "    </tr>\n",
       "    <tr>\n",
       "      <th>23</th>\n",
       "      <td>inf</td>\n",
       "      <td>1</td>\n",
       "    </tr>\n",
       "    <tr>\n",
       "      <th>24</th>\n",
       "      <td>inf</td>\n",
       "      <td>2</td>\n",
       "    </tr>\n",
       "    <tr>\n",
       "      <th>25</th>\n",
       "      <td>inf</td>\n",
       "      <td>3</td>\n",
       "    </tr>\n",
       "    <tr>\n",
       "      <th>26</th>\n",
       "      <td>inf</td>\n",
       "      <td>4</td>\n",
       "    </tr>\n",
       "    <tr>\n",
       "      <th>27</th>\n",
       "      <td>inf</td>\n",
       "      <td>1</td>\n",
       "    </tr>\n",
       "    <tr>\n",
       "      <th>28</th>\n",
       "      <td>inf</td>\n",
       "      <td>2</td>\n",
       "    </tr>\n",
       "    <tr>\n",
       "      <th>29</th>\n",
       "      <td>inf</td>\n",
       "      <td>3</td>\n",
       "    </tr>\n",
       "    <tr>\n",
       "      <th>30</th>\n",
       "      <td>inf</td>\n",
       "      <td>4</td>\n",
       "    </tr>\n",
       "    <tr>\n",
       "      <th>31</th>\n",
       "      <td>3.0</td>\n",
       "      <td>2</td>\n",
       "    </tr>\n",
       "    <tr>\n",
       "      <th>32</th>\n",
       "      <td>2.8</td>\n",
       "      <td>3</td>\n",
       "    </tr>\n",
       "    <tr>\n",
       "      <th>33</th>\n",
       "      <td>2.3</td>\n",
       "      <td>4</td>\n",
       "    </tr>\n",
       "    <tr>\n",
       "      <th>34</th>\n",
       "      <td>3.6</td>\n",
       "      <td>5</td>\n",
       "    </tr>\n",
       "    <tr>\n",
       "      <th>35</th>\n",
       "      <td>6.5</td>\n",
       "      <td>2</td>\n",
       "    </tr>\n",
       "    <tr>\n",
       "      <th>36</th>\n",
       "      <td>2.6</td>\n",
       "      <td>3</td>\n",
       "    </tr>\n",
       "    <tr>\n",
       "      <th>37</th>\n",
       "      <td>1.8</td>\n",
       "      <td>4</td>\n",
       "    </tr>\n",
       "    <tr>\n",
       "      <th>38</th>\n",
       "      <td>12.2</td>\n",
       "      <td>5</td>\n",
       "    </tr>\n",
       "    <tr>\n",
       "      <th>39</th>\n",
       "      <td>2.4</td>\n",
       "      <td>2</td>\n",
       "    </tr>\n",
       "    <tr>\n",
       "      <th>40</th>\n",
       "      <td>3.5</td>\n",
       "      <td>3</td>\n",
       "    </tr>\n",
       "    <tr>\n",
       "      <th>41</th>\n",
       "      <td>1.8</td>\n",
       "      <td>4</td>\n",
       "    </tr>\n",
       "    <tr>\n",
       "      <th>42</th>\n",
       "      <td>4.7</td>\n",
       "      <td>2</td>\n",
       "    </tr>\n",
       "    <tr>\n",
       "      <th>43</th>\n",
       "      <td>1.8</td>\n",
       "      <td>3</td>\n",
       "    </tr>\n",
       "    <tr>\n",
       "      <th>44</th>\n",
       "      <td>2.0</td>\n",
       "      <td>2</td>\n",
       "    </tr>\n",
       "    <tr>\n",
       "      <th>45</th>\n",
       "      <td>1.5</td>\n",
       "      <td>3</td>\n",
       "    </tr>\n",
       "    <tr>\n",
       "      <th>46</th>\n",
       "      <td>1.3</td>\n",
       "      <td>4</td>\n",
       "    </tr>\n",
       "    <tr>\n",
       "      <th>47</th>\n",
       "      <td>3.2</td>\n",
       "      <td>2</td>\n",
       "    </tr>\n",
       "    <tr>\n",
       "      <th>48</th>\n",
       "      <td>1.9</td>\n",
       "      <td>3</td>\n",
       "    </tr>\n",
       "    <tr>\n",
       "      <th>49</th>\n",
       "      <td>1.5</td>\n",
       "      <td>4</td>\n",
       "    </tr>\n",
       "    <tr>\n",
       "      <th>50</th>\n",
       "      <td>1.7</td>\n",
       "      <td>1</td>\n",
       "    </tr>\n",
       "    <tr>\n",
       "      <th>51</th>\n",
       "      <td>1.4</td>\n",
       "      <td>2</td>\n",
       "    </tr>\n",
       "    <tr>\n",
       "      <th>52</th>\n",
       "      <td>1.3</td>\n",
       "      <td>3</td>\n",
       "    </tr>\n",
       "    <tr>\n",
       "      <th>53</th>\n",
       "      <td>3.3</td>\n",
       "      <td>2</td>\n",
       "    </tr>\n",
       "    <tr>\n",
       "      <th>54</th>\n",
       "      <td>10.8</td>\n",
       "      <td>3</td>\n",
       "    </tr>\n",
       "    <tr>\n",
       "      <th>55</th>\n",
       "      <td>47.4</td>\n",
       "      <td>4</td>\n",
       "    </tr>\n",
       "    <tr>\n",
       "      <th>56</th>\n",
       "      <td>41.2</td>\n",
       "      <td>5</td>\n",
       "    </tr>\n",
       "    <tr>\n",
       "      <th>57</th>\n",
       "      <td>4.3</td>\n",
       "      <td>2</td>\n",
       "    </tr>\n",
       "    <tr>\n",
       "      <th>58</th>\n",
       "      <td>8.4</td>\n",
       "      <td>3</td>\n",
       "    </tr>\n",
       "    <tr>\n",
       "      <th>59</th>\n",
       "      <td>6.3</td>\n",
       "      <td>4</td>\n",
       "    </tr>\n",
       "    <tr>\n",
       "      <th>60</th>\n",
       "      <td>3.4</td>\n",
       "      <td>5</td>\n",
       "    </tr>\n",
       "    <tr>\n",
       "      <th>61</th>\n",
       "      <td>4.3</td>\n",
       "      <td>2</td>\n",
       "    </tr>\n",
       "    <tr>\n",
       "      <th>62</th>\n",
       "      <td>5.7</td>\n",
       "      <td>3</td>\n",
       "    </tr>\n",
       "    <tr>\n",
       "      <th>63</th>\n",
       "      <td>4.7</td>\n",
       "      <td>4</td>\n",
       "    </tr>\n",
       "    <tr>\n",
       "      <th>64</th>\n",
       "      <td>4.3</td>\n",
       "      <td>5</td>\n",
       "    </tr>\n",
       "    <tr>\n",
       "      <th>65</th>\n",
       "      <td>2.2</td>\n",
       "      <td>2</td>\n",
       "    </tr>\n",
       "    <tr>\n",
       "      <th>66</th>\n",
       "      <td>2.8</td>\n",
       "      <td>3</td>\n",
       "    </tr>\n",
       "    <tr>\n",
       "      <th>67</th>\n",
       "      <td>2.5</td>\n",
       "      <td>4</td>\n",
       "    </tr>\n",
       "    <tr>\n",
       "      <th>68</th>\n",
       "      <td>4.7</td>\n",
       "      <td>5</td>\n",
       "    </tr>\n",
       "  </tbody>\n",
       "</table>\n",
       "</div>"
      ],
      "text/plain": [
       "    VIF Factor          features\n",
       "0          4.9            school\n",
       "1          3.6               sex\n",
       "2        176.3               age\n",
       "3          2.1           address\n",
       "4          4.3           famsize\n",
       "5        130.1           Pstatus\n",
       "6          inf         schoolsup\n",
       "7          inf            famsup\n",
       "8          inf              paid\n",
       "9          2.5        activities\n",
       "10         6.3           nursery\n",
       "11         inf            higher\n",
       "12         inf          internet\n",
       "13         2.0          romantic\n",
       "14         7.0              Dalc\n",
       "15         9.7              Walc\n",
       "16         2.2          absences\n",
       "17   2300609.2                G1\n",
       "18   2391236.7                G2\n",
       "19   2550886.2                G3\n",
       "20       688.4         stability\n",
       "21         inf  academic_support\n",
       "22  21605148.5         grade_avg\n",
       "23         inf                 1\n",
       "24         inf                 2\n",
       "25         inf                 3\n",
       "26         inf                 4\n",
       "27         inf                 1\n",
       "28         inf                 2\n",
       "29         inf                 3\n",
       "30         inf                 4\n",
       "31         3.0                 2\n",
       "32         2.8                 3\n",
       "33         2.3                 4\n",
       "34         3.6                 5\n",
       "35         6.5                 2\n",
       "36         2.6                 3\n",
       "37         1.8                 4\n",
       "38        12.2                 5\n",
       "39         2.4                 2\n",
       "40         3.5                 3\n",
       "41         1.8                 4\n",
       "42         4.7                 2\n",
       "43         1.8                 3\n",
       "44         2.0                 2\n",
       "45         1.5                 3\n",
       "46         1.3                 4\n",
       "47         3.2                 2\n",
       "48         1.9                 3\n",
       "49         1.5                 4\n",
       "50         1.7                 1\n",
       "51         1.4                 2\n",
       "52         1.3                 3\n",
       "53         3.3                 2\n",
       "54        10.8                 3\n",
       "55        47.4                 4\n",
       "56        41.2                 5\n",
       "57         4.3                 2\n",
       "58         8.4                 3\n",
       "59         6.3                 4\n",
       "60         3.4                 5\n",
       "61         4.3                 2\n",
       "62         5.7                 3\n",
       "63         4.7                 4\n",
       "64         4.3                 5\n",
       "65         2.2                 2\n",
       "66         2.8                 3\n",
       "67         2.5                 4\n",
       "68         4.7                 5"
      ]
     },
     "execution_count": 36,
     "metadata": {},
     "output_type": "execute_result"
    }
   ],
   "source": [
    "#VIF selection method -> no features appear to be too highly correlated with eachother\n",
    "pd.set_option('display.max_rows', None)\n",
    "vif = pd.DataFrame()\n",
    "vif[\"VIF Factor\"] = [variance_inflation_factor(X_train.values, i) for i in range(X_train.shape[1])]\n",
    "vif[\"features\"] = X_train.columns\n",
    "vif.round(1)"
   ]
  },
  {
   "cell_type": "code",
   "execution_count": 37,
   "metadata": {},
   "outputs": [],
   "source": [
    "scaler1 = MinMaxScaler()  \n",
    "scaler1.fit(X_train)\n",
    "\n",
    "X_train_scaleI = scaler1.transform(X_train)  \n",
    "X_test_scaleI = scaler1.transform(X_test)\n",
    "\n",
    "scaler2 = MinMaxScaler()  \n",
    "scaler2.fit(X_train_u)\n",
    "\n",
    "X_train_scaleu = scaler2.transform(X_train_u)  \n",
    "X_test_scaleu = scaler2.transform(X_test)"
   ]
  },
  {
   "cell_type": "markdown",
   "metadata": {},
   "source": [
    "#### Optimal K for KNN"
   ]
  },
  {
   "cell_type": "code",
   "execution_count": 38,
   "metadata": {},
   "outputs": [],
   "source": [
    "#fumction to find the position of the maximum value in a list\n",
    "def max_value(l):\n",
    "    max_val = max(l)\n",
    "    max_idx = l.index(max_val)\n",
    "    return max_idx, max_val"
   ]
  },
  {
   "cell_type": "code",
   "execution_count": 39,
   "metadata": {},
   "outputs": [
    {
     "name": "stdout",
     "output_type": "stream",
     "text": [
      "2 0.8307692307692308\n"
     ]
    }
   ],
   "source": [
    "#create a container to track the scores\n",
    "k_scores1=[]\n",
    "\n",
    "#set up a loop to fit the model using a different values of K\n",
    "\n",
    "k_range = list(range(10, 35))\n",
    "for k in k_range:\n",
    "    knn1 = KNeighborsClassifier(n_neighbors=k)\n",
    "    #fit the model and get the score on a evaluation metric\n",
    "    knn1.fit(X_train_scaleI, y_train)\n",
    "    y_pred = knn1.predict(X_test_scaleI)\n",
    "    \n",
    "    acc2 = metrics.accuracy_score(y_test, y_pred)\n",
    "    \n",
    "    k_scores1.append(acc2)\n",
    "\n",
    "#use the max_value function to find the K value that gives you the best accuracy pred \n",
    "idx, val = max_value(k_scores1)\n",
    "    \n",
    "print(idx+1, val)"
   ]
  },
  {
   "cell_type": "code",
   "execution_count": 40,
   "metadata": {},
   "outputs": [
    {
     "name": "stdout",
     "output_type": "stream",
     "text": [
      "11 0.8538461538461538\n"
     ]
    }
   ],
   "source": [
    "#create a container to track the scores\n",
    "k_scores2=[]\n",
    "\n",
    "#set up a loop to fit the model using a different values of K\n",
    "\n",
    "k_range = list(range(10, 35))\n",
    "for k in k_range:\n",
    "    knn2 = KNeighborsClassifier(n_neighbors=k)\n",
    "    #fit the model and get the score on a evaluation metric\n",
    "    knn2.fit(X_train_scaleu, y_train_u)\n",
    "    y_pred= knn2.predict(X_test_scaleu)\n",
    "    \n",
    "    acc2 = metrics.accuracy_score(y_test, y_pred)\n",
    "    \n",
    "    k_scores2.append(acc2)\n",
    "\n",
    "#use the max_value function to find the K value that gives you the best accuracy pred \n",
    "idx, val = max_value(k_scores2)\n",
    "    \n",
    "print(idx+1, val)"
   ]
  },
  {
   "cell_type": "markdown",
   "metadata": {},
   "source": [
    "## Modeling"
   ]
  },
  {
   "cell_type": "markdown",
   "metadata": {},
   "source": [
    "**Running a model without any class imbalance resolution**"
   ]
  },
  {
   "cell_type": "code",
   "execution_count": 41,
   "metadata": {},
   "outputs": [
    {
     "name": "stdout",
     "output_type": "stream",
     "text": [
      "Test Accuracy score:  0.9923076923076923\n",
      "Train Accuracy score:  0.9980694980694981\n",
      "Test F1 score:  0.9811320754716981\n",
      "Train F1 score:  0.9945945945945946\n"
     ]
    }
   ],
   "source": [
    "lr1 = LogisticRegression(solver='liblinear', random_state=150)\n",
    "\n",
    "lr1.fit(X_train, y_train)\n",
    "\n",
    "y_pred_test = lr1.predict(X_test)\n",
    "y_pred_train = lr1.predict(X_train)\n",
    "\n",
    "# checking accuracy\n",
    "print('Test Accuracy score: ', metrics.accuracy_score(y_test, y_pred_test))\n",
    "print('Train Accuracy score: ', metrics.accuracy_score(y_train, y_pred_train))\n",
    "\n",
    "# checking accuracy\n",
    "print('Test F1 score: ', metrics.f1_score(y_test, y_pred_test))\n",
    "print('Train F1 score: ', metrics.f1_score(y_train, y_pred_train))"
   ]
  },
  {
   "cell_type": "code",
   "execution_count": 42,
   "metadata": {},
   "outputs": [],
   "source": [
    "results = {}\n",
    "\n",
    "results['lr_imbalanced'] = (round(metrics.accuracy_score(y_test, y_pred_test),4), \n",
    "                            round(metrics.f1_score(y_test, y_pred_test),4), 'no evidence of overfit')"
   ]
  },
  {
   "cell_type": "code",
   "execution_count": 43,
   "metadata": {},
   "outputs": [
    {
     "name": "stdout",
     "output_type": "stream",
     "text": [
      "Test Accuracy score:  0.9846153846153847\n",
      "Train Accuracy score:  0.9964705882352941\n",
      "Test F1 score:  0.962962962962963\n",
      "Train F1 score:  0.9964830011723329\n"
     ]
    }
   ],
   "source": [
    "# upsampled_dt = DecisionTreeClassifier(max_depth=5)\n",
    "upsampled_lr = LogisticRegression(solver='liblinear')\n",
    "\n",
    "\n",
    "# upsampled_dt.fit(X_train, y_train)\n",
    "upsampled_lr.fit(X_train_u, y_train_u)\n",
    "\n",
    "\n",
    "# upsampled_pred = upsampled_dt.predict(X_test)\n",
    "upsampled_pred_test = upsampled_lr.predict(X_test)\n",
    "upsampled_pred_train = upsampled_lr.predict(X_train_u)\n",
    "\n",
    "\n",
    "# checking accuracy\n",
    "print('Test Accuracy score: ', metrics.accuracy_score(y_test, upsampled_pred_test))\n",
    "print('Train Accuracy score: ', metrics.accuracy_score(y_train_u, upsampled_pred_train))\n",
    "\n",
    "# checking accuracy\n",
    "print('Test F1 score: ', metrics.f1_score(y_test, upsampled_pred_test))\n",
    "print('Train F1 score: ', metrics.f1_score(y_train_u, upsampled_pred_train))"
   ]
  },
  {
   "cell_type": "code",
   "execution_count": 44,
   "metadata": {},
   "outputs": [
    {
     "data": {
      "text/plain": [
       "{'lr_imbalanced': (0.9923, 0.9811, 'no evidence of overfit'),\n",
       " 'lr_upsampled': (0.9846, 0.963, 'no evidence of overfit')}"
      ]
     },
     "execution_count": 44,
     "metadata": {},
     "output_type": "execute_result"
    }
   ],
   "source": [
    "results['lr_upsampled'] = (round(metrics.accuracy_score(y_test, upsampled_pred_test),4), \n",
    "                           round(metrics.f1_score(y_test, upsampled_pred_test),4), 'no evidence of overfit')\n",
    "results"
   ]
  },
  {
   "cell_type": "code",
   "execution_count": 45,
   "metadata": {},
   "outputs": [
    {
     "name": "stdout",
     "output_type": "stream",
     "text": [
      "Test Accuracy score:  0.8307692307692308\n",
      "Train Accuracy score:  0.8745173745173745\n",
      "Test F1 score:  0.2666666666666667\n",
      "Train F1 score:  0.4628099173553719\n"
     ]
    },
    {
     "data": {
      "text/plain": [
       "{'lr_imbalanced': (0.9923, 0.9811, 'no evidence of overfit'),\n",
       " 'lr_upsampled': (0.9846, 0.963, 'no evidence of overfit'),\n",
       " 'knn3_imbalanced': (0.8308, 0.2667, 'light overfitting')}"
      ]
     },
     "execution_count": 45,
     "metadata": {},
     "output_type": "execute_result"
    }
   ],
   "source": [
    "knn3 = KNeighborsClassifier(n_neighbors=2)\n",
    "\n",
    "knn3.fit(X_train_scaleI, y_train)\n",
    "\n",
    "y_pred_test =knn3.predict(X_test_scaleI)\n",
    "y_pred_train = knn3.predict(X_train_scaleI)\n",
    "\n",
    "# checking accuracy\n",
    "print('Test Accuracy score: ', metrics.accuracy_score(y_test, y_pred_test))\n",
    "print('Train Accuracy score: ', metrics.accuracy_score(y_train, y_pred_train))\n",
    "\n",
    "# checking accuracy\n",
    "print('Test F1 score: ', metrics.f1_score(y_test, y_pred_test))\n",
    "print('Train F1 score: ', metrics.f1_score(y_train, y_pred_train))\n",
    "results['knn3_imbalanced'] = (round(metrics.accuracy_score(y_test, y_pred_test),4), \n",
    "                              round(metrics.f1_score(y_test, y_pred_test),4), 'light overfitting')\n",
    "results"
   ]
  },
  {
   "cell_type": "code",
   "execution_count": 46,
   "metadata": {},
   "outputs": [
    {
     "name": "stdout",
     "output_type": "stream",
     "text": [
      "Test Accuracy score:  0.7769230769230769\n",
      "Train Accuracy score:  0.8647058823529412\n",
      "Test F1 score:  0.5797101449275363\n",
      "Train F1 score:  0.8667439165701043\n"
     ]
    },
    {
     "data": {
      "text/plain": [
       "{'lr_imbalanced': (0.9923, 0.9811, 'no evidence of overfit'),\n",
       " 'lr_upsampled': (0.9846, 0.963, 'no evidence of overfit'),\n",
       " 'knn3_imbalanced': (0.8308, 0.2667, 'light overfitting'),\n",
       " 'knn4_upsampled': (0.7769, 0.5797, 'possibly overfit')}"
      ]
     },
     "execution_count": 46,
     "metadata": {},
     "output_type": "execute_result"
    }
   ],
   "source": [
    "knn4 = KNeighborsClassifier(n_neighbors=11)\n",
    "\n",
    "knn4.fit(X_train_scaleu, y_train_u)\n",
    "\n",
    "y_pred_test =knn4.predict(X_test_scaleu)\n",
    "y_pred_train = knn4.predict(X_train_scaleu)\n",
    "\n",
    "# checking accuracy\n",
    "print('Test Accuracy score: ', metrics.accuracy_score(y_test, y_pred_test))\n",
    "print('Train Accuracy score: ', metrics.accuracy_score(y_train_u, y_pred_train))\n",
    "\n",
    "# checking accuracy\n",
    "print('Test F1 score: ', metrics.f1_score(y_test, y_pred_test))\n",
    "print('Train F1 score: ', metrics.f1_score(y_train_u, y_pred_train))\n",
    "results['knn4_upsampled'] = (round(metrics.accuracy_score(y_test, y_pred_test),4), \n",
    "                             round(metrics.f1_score(y_test, y_pred_test),4), \"possibly overfit\")\n",
    "results"
   ]
  },
  {
   "cell_type": "code",
   "execution_count": 47,
   "metadata": {},
   "outputs": [
    {
     "name": "stdout",
     "output_type": "stream",
     "text": [
      "Test Accuracy score:  0.9923076923076923\n",
      "Train Accuracy score:  1.0\n",
      "Test F1 score:  0.9811320754716981\n",
      "Train F1 score:  1.0\n"
     ]
    }
   ],
   "source": [
    "dtc1 = DecisionTreeClassifier()\n",
    "\n",
    "#Train Decision Tree Classifier\n",
    "dtc1.fit(X_train,y_train)\n",
    "\n",
    "#predict the training set\n",
    "y_pred_train = dtc1.predict(X_train)\n",
    "\n",
    "#Predict the response for test dataset\n",
    "y_pred_test = dtc1.predict(X_test)\n",
    "\n",
    "# Model Accuracy, how often is the classifier correct?\n",
    "# checking accuracy\n",
    "print('Test Accuracy score: ', metrics.accuracy_score(y_test, y_pred_test))\n",
    "print('Train Accuracy score: ', metrics.accuracy_score(y_train, y_pred_train))\n",
    "\n",
    "# checking accuracy\n",
    "print('Test F1 score: ', metrics.f1_score(y_test, y_pred_test))\n",
    "print('Train F1 score: ', metrics.f1_score(y_train, y_pred_train))"
   ]
  },
  {
   "cell_type": "code",
   "execution_count": 48,
   "metadata": {},
   "outputs": [
    {
     "data": {
      "text/plain": [
       "{'lr_imbalanced': (0.9923, 0.9811, 'no evidence of overfit'),\n",
       " 'lr_upsampled': (0.9846, 0.963, 'no evidence of overfit'),\n",
       " 'knn3_imbalanced': (0.8308, 0.2667, 'light overfitting'),\n",
       " 'knn4_upsampled': (0.7769, 0.5797, 'possibly overfit'),\n",
       " 'dtc1_imbalanced': (0.9923, 0.9811, 'overfit ?')}"
      ]
     },
     "execution_count": 48,
     "metadata": {},
     "output_type": "execute_result"
    }
   ],
   "source": [
    "results['dtc1_imbalanced'] = (round(metrics.accuracy_score(y_test, y_pred_test),4), \n",
    "                             round(metrics.f1_score(y_test, y_pred_test),4), \"overfit ?\")\n",
    "results"
   ]
  },
  {
   "cell_type": "code",
   "execution_count": 49,
   "metadata": {},
   "outputs": [
    {
     "name": "stdout",
     "output_type": "stream",
     "text": [
      "Test Accuracy score:  0.9923076923076923\n",
      "Train Accuracy score:  1.0\n",
      "Test F1 score:  0.9811320754716981\n",
      "Train F1 score:  1.0\n"
     ]
    }
   ],
   "source": [
    "dtc2 = DecisionTreeClassifier()\n",
    "\n",
    "#Train Decision Tree Classifier\n",
    "dtc2.fit(X_train_u,y_train_u)\n",
    "\n",
    "#predict the training set\n",
    "y_pred_train = dtc2.predict(X_train_u)\n",
    "\n",
    "#Predict the response for test dataset\n",
    "y_pred_test = dtc2.predict(X_test)\n",
    "\n",
    "# Model Accuracy, how often is the classifier correct?\n",
    "# checking accuracy\n",
    "print('Test Accuracy score: ', metrics.accuracy_score(y_test, y_pred_test))\n",
    "print('Train Accuracy score: ', metrics.accuracy_score(y_train_u, y_pred_train))\n",
    "\n",
    "# checking accuracy\n",
    "print('Test F1 score: ', metrics.f1_score(y_test, y_pred_test))\n",
    "print('Train F1 score: ', metrics.f1_score(y_train_u, y_pred_train))"
   ]
  },
  {
   "cell_type": "code",
   "execution_count": 50,
   "metadata": {},
   "outputs": [
    {
     "data": {
      "text/plain": [
       "{'lr_imbalanced': (0.9923, 0.9811, 'no evidence of overfit'),\n",
       " 'lr_upsampled': (0.9846, 0.963, 'no evidence of overfit'),\n",
       " 'knn3_imbalanced': (0.8308, 0.2667, 'light overfitting'),\n",
       " 'knn4_upsampled': (0.7769, 0.5797, 'possibly overfit'),\n",
       " 'dtc1_imbalanced': (0.9923, 0.9811, 'overfit ?'),\n",
       " 'dtc2_upsampled': (0.9923, 0.9811, 'overfit ?')}"
      ]
     },
     "execution_count": 50,
     "metadata": {},
     "output_type": "execute_result"
    }
   ],
   "source": [
    "results['dtc2_upsampled'] = (round(metrics.accuracy_score(y_test, y_pred_test),4), \n",
    "                             round(metrics.f1_score(y_test, y_pred_test),4), \"overfit ?\")\n",
    "results"
   ]
  },
  {
   "cell_type": "code",
   "execution_count": null,
   "metadata": {},
   "outputs": [],
   "source": []
  },
  {
   "cell_type": "code",
   "execution_count": null,
   "metadata": {},
   "outputs": [],
   "source": []
  },
  {
   "cell_type": "code",
   "execution_count": null,
   "metadata": {},
   "outputs": [],
   "source": []
  },
  {
   "cell_type": "code",
   "execution_count": null,
   "metadata": {},
   "outputs": [],
   "source": []
  },
  {
   "cell_type": "code",
   "execution_count": null,
   "metadata": {},
   "outputs": [],
   "source": []
  },
  {
   "cell_type": "code",
   "execution_count": null,
   "metadata": {},
   "outputs": [],
   "source": []
  },
  {
   "cell_type": "markdown",
   "metadata": {},
   "source": [
    "# Final Model"
   ]
  },
  {
   "cell_type": "code",
   "execution_count": null,
   "metadata": {},
   "outputs": [],
   "source": []
  },
  {
   "cell_type": "markdown",
   "metadata": {},
   "source": [
    "--- Explain Final Model here"
   ]
  },
  {
   "cell_type": "code",
   "execution_count": null,
   "metadata": {},
   "outputs": [],
   "source": []
  },
  {
   "cell_type": "code",
   "execution_count": null,
   "metadata": {},
   "outputs": [],
   "source": []
  },
  {
   "cell_type": "code",
   "execution_count": null,
   "metadata": {},
   "outputs": [],
   "source": []
  }
 ],
 "metadata": {
  "kernelspec": {
   "display_name": "learn-env",
   "language": "python",
   "name": "learn-env"
  },
  "language_info": {
   "codemirror_mode": {
    "name": "ipython",
    "version": 3
   },
   "file_extension": ".py",
   "mimetype": "text/x-python",
   "name": "python",
   "nbconvert_exporter": "python",
   "pygments_lexer": "ipython3",
   "version": "3.6.9"
  }
 },
 "nbformat": 4,
 "nbformat_minor": 4
}
